{
 "cells": [
  {
   "cell_type": "markdown",
   "metadata": {},
   "source": [
    "## Necessary libraries"
   ]
  },
  {
   "cell_type": "code",
   "execution_count": 34,
   "metadata": {
    "scrolled": true
   },
   "outputs": [],
   "source": [
    "# pip install gensim"
   ]
  },
  {
   "cell_type": "code",
   "execution_count": 35,
   "metadata": {
    "scrolled": true
   },
   "outputs": [],
   "source": [
    "# pip install xgboost"
   ]
  },
  {
   "cell_type": "code",
   "execution_count": 36,
   "metadata": {},
   "outputs": [],
   "source": [
    "# pip install textblob"
   ]
  },
  {
   "cell_type": "code",
   "execution_count": 37,
   "metadata": {},
   "outputs": [],
   "source": [
    "# pip install string"
   ]
  },
  {
   "cell_type": "code",
   "execution_count": 43,
   "metadata": {
    "_cell_guid": "b1076dfc-b9ad-4769-8c92-a6c4dae69d19",
    "_uuid": "8f2839f25d086af736a60e9eeb907d3b93b6e0e5",
    "execution": {
     "iopub.execute_input": "2021-12-13T06:38:32.000679Z",
     "iopub.status.busy": "2021-12-13T06:38:32.000080Z",
     "iopub.status.idle": "2021-12-13T06:38:32.012079Z",
     "shell.execute_reply": "2021-12-13T06:38:32.010957Z",
     "shell.execute_reply.started": "2021-12-13T06:38:32.000642Z"
    }
   },
   "outputs": [],
   "source": [
    "# Libraries\n",
    "import warnings\n",
    "warnings.filterwarnings(\"ignore\", category=DeprecationWarning) \n",
    "\n",
    "import pandas as pd\n",
    "import time\n",
    "import pickle\n",
    "import gensim\n",
    "import numpy as np\n",
    "import nltk\n",
    "\n",
    "from sklearn import model_selection, preprocessing, linear_model, naive_bayes, metrics, svm\n",
    "from sklearn.feature_extraction.text import TfidfVectorizer, CountVectorizer\n",
    "from sklearn.metrics import classification_report, confusion_matrix\n",
    "from sklearn.linear_model import LogisticRegression\n",
    "from sklearn import decomposition, ensemble\n",
    "\n",
    "import pandas, xgboost, numpy, textblob, string\n",
    "from scipy import sparse\n",
    "from keras.preprocessing import text, sequence\n",
    "from keras import layers, models, optimizers\n",
    "from sklearn.neural_network import MLPClassifier\n",
    "from sklearn.datasets import make_classification"
   ]
  },
  {
   "cell_type": "markdown",
   "metadata": {},
   "source": [
    "## Handling Raw Corpus"
   ]
  },
  {
   "cell_type": "markdown",
   "metadata": {},
   "source": [
    "# Loading data and Pre-Processing"
   ]
  },
  {
   "cell_type": "code",
   "execution_count": 39,
   "metadata": {
    "execution": {
     "iopub.execute_input": "2021-12-13T06:38:32.645728Z",
     "iopub.status.busy": "2021-12-13T06:38:32.645366Z",
     "iopub.status.idle": "2021-12-13T06:38:38.529156Z",
     "shell.execute_reply": "2021-12-13T06:38:38.527864Z",
     "shell.execute_reply.started": "2021-12-13T06:38:32.645665Z"
    },
    "scrolled": true
   },
   "outputs": [
    {
     "data": {
      "text/html": [
       "<div>\n",
       "<style scoped>\n",
       "    .dataframe tbody tr th:only-of-type {\n",
       "        vertical-align: middle;\n",
       "    }\n",
       "\n",
       "    .dataframe tbody tr th {\n",
       "        vertical-align: top;\n",
       "    }\n",
       "\n",
       "    .dataframe thead th {\n",
       "        text-align: right;\n",
       "    }\n",
       "</style>\n",
       "<table border=\"1\" class=\"dataframe\">\n",
       "  <thead>\n",
       "    <tr style=\"text-align: right;\">\n",
       "      <th></th>\n",
       "      <th>id</th>\n",
       "      <th>tweet</th>\n",
       "      <th>label</th>\n",
       "    </tr>\n",
       "  </thead>\n",
       "  <tbody>\n",
       "    <tr>\n",
       "      <td>0</td>\n",
       "      <td>1</td>\n",
       "      <td>The CDC currently reports 99031 deaths. In gen...</td>\n",
       "      <td>real</td>\n",
       "    </tr>\n",
       "    <tr>\n",
       "      <td>1</td>\n",
       "      <td>2</td>\n",
       "      <td>States reported 1121 deaths a small rise from ...</td>\n",
       "      <td>real</td>\n",
       "    </tr>\n",
       "    <tr>\n",
       "      <td>2</td>\n",
       "      <td>3</td>\n",
       "      <td>Politically Correct Woman (Almost) Uses Pandem...</td>\n",
       "      <td>fake</td>\n",
       "    </tr>\n",
       "    <tr>\n",
       "      <td>3</td>\n",
       "      <td>4</td>\n",
       "      <td>#IndiaFightsCorona: We have 1524 #COVID testin...</td>\n",
       "      <td>real</td>\n",
       "    </tr>\n",
       "    <tr>\n",
       "      <td>4</td>\n",
       "      <td>5</td>\n",
       "      <td>Populous states can generate large case counts...</td>\n",
       "      <td>real</td>\n",
       "    </tr>\n",
       "  </tbody>\n",
       "</table>\n",
       "</div>"
      ],
      "text/plain": [
       "   id                                              tweet label\n",
       "0   1  The CDC currently reports 99031 deaths. In gen...  real\n",
       "1   2  States reported 1121 deaths a small rise from ...  real\n",
       "2   3  Politically Correct Woman (Almost) Uses Pandem...  fake\n",
       "3   4  #IndiaFightsCorona: We have 1524 #COVID testin...  real\n",
       "4   5  Populous states can generate large case counts...  real"
      ]
     },
     "execution_count": 39,
     "metadata": {},
     "output_type": "execute_result"
    }
   ],
   "source": [
    "data = pd.read_csv(\"data.tsv\", sep='\\t')\n",
    "data.head()"
   ]
  },
  {
   "cell_type": "code",
   "execution_count": 40,
   "metadata": {},
   "outputs": [
    {
     "data": {
      "text/html": [
       "<div>\n",
       "<style scoped>\n",
       "    .dataframe tbody tr th:only-of-type {\n",
       "        vertical-align: middle;\n",
       "    }\n",
       "\n",
       "    .dataframe tbody tr th {\n",
       "        vertical-align: top;\n",
       "    }\n",
       "\n",
       "    .dataframe thead th {\n",
       "        text-align: right;\n",
       "    }\n",
       "</style>\n",
       "<table border=\"1\" class=\"dataframe\">\n",
       "  <thead>\n",
       "    <tr style=\"text-align: right;\">\n",
       "      <th></th>\n",
       "      <th>id</th>\n",
       "      <th>tweet</th>\n",
       "      <th>label</th>\n",
       "    </tr>\n",
       "  </thead>\n",
       "  <tbody>\n",
       "    <tr>\n",
       "      <td>6416</td>\n",
       "      <td>6417</td>\n",
       "      <td>???Autopsies prove that COVID-19 is??� a blood...</td>\n",
       "      <td>fake</td>\n",
       "    </tr>\n",
       "    <tr>\n",
       "      <td>6417</td>\n",
       "      <td>6418</td>\n",
       "      <td>_A post claims a COVID-19 vaccine has already ...</td>\n",
       "      <td>fake</td>\n",
       "    </tr>\n",
       "    <tr>\n",
       "      <td>6418</td>\n",
       "      <td>6419</td>\n",
       "      <td>Aamir Khan Donate 250 Cr. In PM Relief Cares Fund</td>\n",
       "      <td>fake</td>\n",
       "    </tr>\n",
       "    <tr>\n",
       "      <td>6419</td>\n",
       "      <td>6420</td>\n",
       "      <td>It has been 93 days since the last case of COV...</td>\n",
       "      <td>real</td>\n",
       "    </tr>\n",
       "    <tr>\n",
       "      <td>6420</td>\n",
       "      <td>6421</td>\n",
       "      <td>The House Democratic Caucus holds a moment of ...</td>\n",
       "      <td>real</td>\n",
       "    </tr>\n",
       "  </tbody>\n",
       "</table>\n",
       "</div>"
      ],
      "text/plain": [
       "        id                                              tweet label\n",
       "6416  6417  ???Autopsies prove that COVID-19 is??� a blood...  fake\n",
       "6417  6418  _A post claims a COVID-19 vaccine has already ...  fake\n",
       "6418  6419  Aamir Khan Donate 250 Cr. In PM Relief Cares Fund  fake\n",
       "6419  6420  It has been 93 days since the last case of COV...  real\n",
       "6420  6421  The House Democratic Caucus holds a moment of ...  real"
      ]
     },
     "execution_count": 40,
     "metadata": {},
     "output_type": "execute_result"
    }
   ],
   "source": [
    "data.tail()"
   ]
  },
  {
   "cell_type": "code",
   "execution_count": 41,
   "metadata": {},
   "outputs": [],
   "source": [
    "import string"
   ]
  },
  {
   "cell_type": "code",
   "execution_count": 44,
   "metadata": {
    "scrolled": true
   },
   "outputs": [
    {
     "name": "stderr",
     "output_type": "stream",
     "text": [
      "C:\\Users\\KiranDon\\Anaconda3\\lib\\site-packages\\ipykernel_launcher.py:22: SettingWithCopyWarning: \n",
      "A value is trying to be set on a copy of a slice from a DataFrame\n",
      "\n",
      "See the caveats in the documentation: http://pandas.pydata.org/pandas-docs/stable/user_guide/indexing.html#returning-a-view-versus-a-copy\n",
      "C:\\Users\\KiranDon\\Anaconda3\\lib\\site-packages\\ipykernel_launcher.py:30: SettingWithCopyWarning: \n",
      "A value is trying to be set on a copy of a slice from a DataFrame\n",
      "\n",
      "See the caveats in the documentation: http://pandas.pydata.org/pandas-docs/stable/user_guide/indexing.html#returning-a-view-versus-a-copy\n"
     ]
    }
   ],
   "source": [
    "def remove_punctuation(text):\n",
    "    punctuationfree=\"\".join([i for i in text if i not in string.punctuation])\n",
    "    return punctuationfree\n",
    "\n",
    "# Removing punctuations\n",
    "data['tweet']= data['tweet'].apply(lambda x:remove_punctuation(x))\n",
    "\n",
    "\n",
    "# Converting text into lower case\n",
    "data['tweet']= data['tweet'].apply(lambda x: x.lower())\n",
    "\n",
    "\n",
    "def remove_stopwords(text):\n",
    "    text = text.split(\" \")\n",
    "    output= \" \".join([i for i in text if i not in stopwords])\n",
    "    return output\n",
    "\n",
    "stopwords = nltk.corpus.stopwords.words('english')\n",
    "\n",
    "# Removing stopwords\n",
    "for i in range(len(data)):\n",
    "    data[\"tweet\"][i] = remove_stopwords(data[\"tweet\"][i])\n",
    "    \n",
    "\n",
    "# Removing urls.....\n",
    "for i in range(len(data)):\n",
    "    temp = data[\"tweet\"][i].split(\" \")\n",
    "    if temp[-1].startswith(\"http\"):\n",
    "        temp.pop()\n",
    "    data[\"tweet\"][i] = \" \".join(temp)"
   ]
  },
  {
   "cell_type": "code",
   "execution_count": 45,
   "metadata": {},
   "outputs": [
    {
     "data": {
      "text/html": [
       "<div>\n",
       "<style scoped>\n",
       "    .dataframe tbody tr th:only-of-type {\n",
       "        vertical-align: middle;\n",
       "    }\n",
       "\n",
       "    .dataframe tbody tr th {\n",
       "        vertical-align: top;\n",
       "    }\n",
       "\n",
       "    .dataframe thead th {\n",
       "        text-align: right;\n",
       "    }\n",
       "</style>\n",
       "<table border=\"1\" class=\"dataframe\">\n",
       "  <thead>\n",
       "    <tr style=\"text-align: right;\">\n",
       "      <th></th>\n",
       "      <th>id</th>\n",
       "      <th>tweet</th>\n",
       "      <th>label</th>\n",
       "    </tr>\n",
       "  </thead>\n",
       "  <tbody>\n",
       "    <tr>\n",
       "      <td>0</td>\n",
       "      <td>1</td>\n",
       "      <td>cdc currently reports 99031 deaths general dis...</td>\n",
       "      <td>real</td>\n",
       "    </tr>\n",
       "    <tr>\n",
       "      <td>1</td>\n",
       "      <td>2</td>\n",
       "      <td>states reported 1121 deaths small rise last tu...</td>\n",
       "      <td>real</td>\n",
       "    </tr>\n",
       "    <tr>\n",
       "      <td>2</td>\n",
       "      <td>3</td>\n",
       "      <td>politically correct woman almost uses pandemic...</td>\n",
       "      <td>fake</td>\n",
       "    </tr>\n",
       "    <tr>\n",
       "      <td>3</td>\n",
       "      <td>4</td>\n",
       "      <td>indiafightscorona 1524 covid testing laborator...</td>\n",
       "      <td>real</td>\n",
       "    </tr>\n",
       "    <tr>\n",
       "      <td>4</td>\n",
       "      <td>5</td>\n",
       "      <td>populous states generate large case counts loo...</td>\n",
       "      <td>real</td>\n",
       "    </tr>\n",
       "  </tbody>\n",
       "</table>\n",
       "</div>"
      ],
      "text/plain": [
       "   id                                              tweet label\n",
       "0   1  cdc currently reports 99031 deaths general dis...  real\n",
       "1   2  states reported 1121 deaths small rise last tu...  real\n",
       "2   3  politically correct woman almost uses pandemic...  fake\n",
       "3   4  indiafightscorona 1524 covid testing laborator...  real\n",
       "4   5  populous states generate large case counts loo...  real"
      ]
     },
     "execution_count": 45,
     "metadata": {},
     "output_type": "execute_result"
    }
   ],
   "source": [
    "data.head()"
   ]
  },
  {
   "cell_type": "code",
   "execution_count": 79,
   "metadata": {
    "execution": {
     "iopub.execute_input": "2021-12-13T06:38:38.531397Z",
     "iopub.status.busy": "2021-12-13T06:38:38.531151Z",
     "iopub.status.idle": "2021-12-13T06:38:39.947036Z",
     "shell.execute_reply": "2021-12-13T06:38:39.946109Z",
     "shell.execute_reply.started": "2021-12-13T06:38:38.531365Z"
    }
   },
   "outputs": [],
   "source": [
    "x = data['tweet']\n",
    "y = data['label']\n",
    "# print(x)"
   ]
  },
  {
   "cell_type": "code",
   "execution_count": 80,
   "metadata": {
    "execution": {
     "iopub.execute_input": "2021-12-13T06:38:39.948499Z",
     "iopub.status.busy": "2021-12-13T06:38:39.948264Z",
     "iopub.status.idle": "2021-12-13T06:38:39.955096Z",
     "shell.execute_reply": "2021-12-13T06:38:39.953924Z",
     "shell.execute_reply.started": "2021-12-13T06:38:39.948468Z"
    }
   },
   "outputs": [],
   "source": [
    "from sklearn.model_selection import train_test_split\n",
    "x_train,x_test,y_train,y_test = train_test_split(x,y,test_size=0.3,random_state=53)"
   ]
  },
  {
   "cell_type": "code",
   "execution_count": 81,
   "metadata": {},
   "outputs": [],
   "source": [
    "# print(x_train)"
   ]
  },
  {
   "cell_type": "code",
   "execution_count": 82,
   "metadata": {
    "execution": {
     "iopub.execute_input": "2021-12-13T06:38:39.958135Z",
     "iopub.status.busy": "2021-12-13T06:38:39.957831Z",
     "iopub.status.idle": "2021-12-13T06:38:39.969544Z",
     "shell.execute_reply": "2021-12-13T06:38:39.968452Z",
     "shell.execute_reply.started": "2021-12-13T06:38:39.958094Z"
    }
   },
   "outputs": [],
   "source": [
    "import matplotlib.pyplot as plt\n",
    "%matplotlib inline"
   ]
  },
  {
   "cell_type": "code",
   "execution_count": 83,
   "metadata": {
    "execution": {
     "iopub.execute_input": "2021-12-13T06:38:39.971268Z",
     "iopub.status.busy": "2021-12-13T06:38:39.971025Z",
     "iopub.status.idle": "2021-12-13T06:38:41.515921Z",
     "shell.execute_reply": "2021-12-13T06:38:41.514760Z",
     "shell.execute_reply.started": "2021-12-13T06:38:39.971235Z"
    }
   },
   "outputs": [],
   "source": [
    "counts = {}\n",
    "for key in y_train:\n",
    "    if key in counts:\n",
    "        counts[key] += 1\n",
    "    else:\n",
    "        counts[key] = 1\n",
    "counts = list(counts.values())"
   ]
  },
  {
   "cell_type": "code",
   "execution_count": 84,
   "metadata": {
    "execution": {
     "iopub.execute_input": "2021-12-13T06:38:41.517578Z",
     "iopub.status.busy": "2021-12-13T06:38:41.517314Z",
     "iopub.status.idle": "2021-12-13T06:38:41.523565Z",
     "shell.execute_reply": "2021-12-13T06:38:41.522535Z",
     "shell.execute_reply.started": "2021-12-13T06:38:41.517544Z"
    }
   },
   "outputs": [
    {
     "name": "stdout",
     "output_type": "stream",
     "text": [
      "[2333, 2161]\n"
     ]
    }
   ],
   "source": [
    "print(counts)"
   ]
  },
  {
   "cell_type": "code",
   "execution_count": 85,
   "metadata": {
    "execution": {
     "iopub.execute_input": "2021-12-13T06:36:37.550323Z",
     "iopub.status.busy": "2021-12-13T06:36:37.549969Z",
     "iopub.status.idle": "2021-12-13T06:36:38.238614Z",
     "shell.execute_reply": "2021-12-13T06:36:38.237717Z",
     "shell.execute_reply.started": "2021-12-13T06:36:37.550286Z"
    }
   },
   "outputs": [
    {
     "data": {
      "image/png": "[encoded data removed]",
      "text/plain": [
       "<Figure size 432x288 with 1 Axes>"
      ]
     },
     "metadata": {
      "needs_background": "light"
     },
     "output_type": "display_data"
    },
    {
     "data": {
      "text/plain": [
       "<Figure size 432x288 with 0 Axes>"
      ]
     },
     "metadata": {},
     "output_type": "display_data"
    }
   ],
   "source": [
    "counts = y_train.value_counts()\n",
    "plt.plot(range(len(counts)), counts, color='blue')\n",
    "plt.xlabel('#samples')\n",
    "plt.ylabel('Category Freq')\n",
    "plt.title('Data distribution')\n",
    "plt.show()\n",
    "plt.savefig('data_distribution_new.png')"
   ]
  },
  {
   "cell_type": "code",
   "execution_count": 86,
   "metadata": {
    "execution": {
     "iopub.execute_input": "2021-12-11T08:33:43.771705Z",
     "iopub.status.busy": "2021-12-11T08:33:43.771029Z",
     "iopub.status.idle": "2021-12-11T08:33:44.911062Z",
     "shell.execute_reply": "2021-12-11T08:33:44.910214Z",
     "shell.execute_reply.started": "2021-12-11T08:33:43.771664Z"
    }
   },
   "outputs": [
    {
     "name": "stdout",
     "output_type": "stream",
     "text": [
      "real    2333\n",
      "fake    2161\n",
      "Name: label, dtype: int64\n",
      "2\n"
     ]
    }
   ],
   "source": [
    "# split the dataset into training and validation datasets \n",
    "# train_x, test_x, train_y, test_y = model_selection.train_test_split(trainDF['question'], trainDF['main_category'], test_size=0.2, random_state=42)\n",
    "print(y_train.value_counts())\n",
    "\n",
    "# label encode the target variable \n",
    "encoder = preprocessing.LabelEncoder()\n",
    "y_train = y_train.astype('str')\n",
    "y_test = y_test.astype('str')\n",
    "y_train = encoder.fit_transform(y_train)\n",
    "y_test = encoder.fit_transform(y_test)\n",
    "\n",
    "classes = list(encoder.classes_)\n",
    "print(len(classes))"
   ]
  },
  {
   "cell_type": "markdown",
   "metadata": {},
   "source": [
    "## Model Traning"
   ]
  },
  {
   "cell_type": "code",
   "execution_count": 87,
   "metadata": {
    "execution": {
     "iopub.execute_input": "2021-12-11T08:33:47.056761Z",
     "iopub.status.busy": "2021-12-11T08:33:47.055907Z",
     "iopub.status.idle": "2021-12-11T08:33:47.062267Z",
     "shell.execute_reply": "2021-12-11T08:33:47.061606Z",
     "shell.execute_reply.started": "2021-12-11T08:33:47.056716Z"
    }
   },
   "outputs": [],
   "source": [
    "def train_model(classifier, feature_vector_train, label, feature_vector_valid, is_neural_net=False):\n",
    "    # fit the training dataset on the classifier\n",
    "    classifier.fit(feature_vector_train, label)\n",
    "    \n",
    "    # predict the labels on validation dataset\n",
    "    predictions = classifier.predict(feature_vector_valid)\n",
    "\n",
    "    if is_neural_net:\n",
    "        predictions = predictions.argmax(axis=-1)\n",
    "\n",
    "    \n",
    "    acc = metrics.accuracy_score(predictions, y_test)\n",
    "    f1 = metrics.f1_score(predictions, y_test, average='weighted')\n",
    "#     print(classification_report(predictions, test_y, target_names = list(encoder.classes_)))\n",
    "#     print(confusion_matrix(predictions, test_y))\n",
    "    return acc, f1, classifier"
   ]
  },
  {
   "cell_type": "markdown",
   "metadata": {},
   "source": [
    "## Logistic Regression"
   ]
  },
  {
   "cell_type": "markdown",
   "metadata": {},
   "source": [
    "## Count Vectorizer"
   ]
  },
  {
   "cell_type": "code",
   "execution_count": 94,
   "metadata": {
    "execution": {
     "iopub.execute_input": "2021-12-11T04:40:35.630686Z",
     "iopub.status.busy": "2021-12-11T04:40:35.630344Z",
     "iopub.status.idle": "2021-12-11T04:43:03.824768Z",
     "shell.execute_reply": "2021-12-11T04:43:03.823977Z",
     "shell.execute_reply.started": "2021-12-11T04:40:35.630645Z"
    }
   },
   "outputs": [
    {
     "name": "stdout",
     "output_type": "stream",
     "text": [
      "Wall time: 509 ms\n"
     ]
    },
    {
     "data": {
      "text/plain": [
       "((4494, 14203), (1927, 14203))"
      ]
     },
     "execution_count": 94,
     "metadata": {},
     "output_type": "execute_result"
    }
   ],
   "source": [
    "%%time\n",
    "## Feature Engineering: Counter Vectorizer\n",
    "count_vect = CountVectorizer(analyzer='word', token_pattern=r'\\w{1,}')\n",
    "count_vect.fit(pd.concat([x_train, x_test], axis=0))\n",
    "\n",
    "# transform the training and validation data using count vectorizer object\n",
    "xtrain_count =  count_vect.fit_transform(x_train)\n",
    "xvalid_count =  count_vect.transform(x_test)\n",
    "xtrain_count.shape, xvalid_count.shape"
   ]
  },
  {
   "cell_type": "code",
   "execution_count": 95,
   "metadata": {
    "execution": {
     "iopub.execute_input": "2021-12-11T04:43:38.842154Z",
     "iopub.status.busy": "2021-12-11T04:43:38.841862Z"
    }
   },
   "outputs": [
    {
     "name": "stdout",
     "output_type": "stream",
     "text": [
      "LR, Count Vectors:  0.9206019719771665 0.9206104791274037\n",
      "Time:  1.224306344985962  secs\n",
      "Wall time: 1.23 s\n"
     ]
    },
    {
     "name": "stderr",
     "output_type": "stream",
     "text": [
      "C:\\Users\\KiranDon\\Anaconda3\\lib\\site-packages\\sklearn\\linear_model\\sag.py:337: ConvergenceWarning: The max_iter was reached which means the coef_ did not converge\n",
      "  \"the coef_ did not converge\", ConvergenceWarning)\n"
     ]
    }
   ],
   "source": [
    "%%time\n",
    "# Linear Classifier on Count \n",
    "start_t = time.time()\n",
    "# accuracy, f1_score, classifier = train_model(linear_model.LogisticRegression(solver='sag',multi_class='multinomial', max_iter=25000), xtrain_count, train_y, xvalid_count)\n",
    "accuracy, f1_score, classifier = train_model(linear_model.LogisticRegression(solver='sag',multi_class='multinomial', max_iter=250), xtrain_count, y_train, xvalid_count)\n",
    "\n",
    "# Save the model to output folder\n",
    "filename = 'count_vec_all.pkl'\n",
    "with open(filename, 'wb') as fp:\n",
    "    pickle.dump(classifier, fp)\n",
    "\n",
    "# Print Accuracy and F1 score\n",
    "print(\"LR, Count Vectors: \", accuracy, f1_score)\n",
    "end_t = time.time()\n",
    "print(\"Time: \",str(end_t-start_t),\" secs\")"
   ]
  },
  {
   "cell_type": "code",
   "execution_count": 96,
   "metadata": {},
   "outputs": [
    {
     "name": "stdout",
     "output_type": "stream",
     "text": [
      "Accuracy Score: 0.9206019719771665\n",
      "f1 Score: 0.9206104791274037\n"
     ]
    }
   ],
   "source": [
    "with open('count_vec_all.pkl', 'rb') as file_1:\n",
    "    clf_1 = pickle.load(file_1)\n",
    "predictions = clf_1.predict(xvalid_count)\n",
    "acc = metrics.accuracy_score(predictions, y_test)\n",
    "f1 = metrics.f1_score(predictions, y_test, average='weighted')\n",
    "print(\"Accuracy Score: {}\".format(acc))\n",
    "print(\"f1 Score: {}\".format(f1))"
   ]
  },
  {
   "cell_type": "code",
   "execution_count": 97,
   "metadata": {},
   "outputs": [],
   "source": [
    "del xtrain_count\n",
    "del xvalid_count\n",
    "del count_vect"
   ]
  },
  {
   "cell_type": "markdown",
   "metadata": {},
   "source": [
    "## Word Level TF-IDF"
   ]
  },
  {
   "cell_type": "code",
   "execution_count": 98,
   "metadata": {
    "execution": {
     "iopub.execute_input": "2021-12-11T08:35:14.258464Z",
     "iopub.status.busy": "2021-12-11T08:35:14.257018Z",
     "iopub.status.idle": "2021-12-11T08:36:57.715336Z",
     "shell.execute_reply": "2021-12-11T08:36:57.714487Z",
     "shell.execute_reply.started": "2021-12-11T08:35:14.258383Z"
    }
   },
   "outputs": [
    {
     "name": "stdout",
     "output_type": "stream",
     "text": [
      "Wall time: 485 ms\n"
     ]
    }
   ],
   "source": [
    "%%time\n",
    "## Feature Engineering: TF-IDF Vectorizer\n",
    "# word level tf-idf\n",
    "tfidf_vect = TfidfVectorizer(analyzer='word', token_pattern = r'\\w{1,}', max_features=5000)\n",
    "tfidf_vect.fit(pd.concat([x_train, x_test], axis=0))\n",
    "xtrain_tfidf =  tfidf_vect.transform(x_train)\n",
    "xvalid_tfidf =  tfidf_vect.transform(x_test)"
   ]
  },
  {
   "cell_type": "code",
   "execution_count": 99,
   "metadata": {
    "execution": {
     "iopub.execute_input": "2021-12-11T08:37:07.418025Z",
     "iopub.status.busy": "2021-12-11T08:37:07.417212Z",
     "iopub.status.idle": "2021-12-11T08:49:46.567765Z",
     "shell.execute_reply": "2021-12-11T08:49:46.566785Z",
     "shell.execute_reply.started": "2021-12-11T08:37:07.417985Z"
    }
   },
   "outputs": [
    {
     "name": "stdout",
     "output_type": "stream",
     "text": [
      "LR, WordLevel TF-IDF:  0.9242345614945511 0.9242101882106609\n",
      "Time:  0.12002801895141602  secs\n",
      "Wall time: 121 ms\n"
     ]
    }
   ],
   "source": [
    "%%time\n",
    "# Linear Classifier on Word Level TF IDF Vectors\n",
    "start_t = time.time()\n",
    "# accuracy, f1_score, classifier = train_model(linear_model.LogisticRegression(multi_class='multinomial', solver='sag', max_iter=25000), xtrain_tfidf, train_y, xvalid_tfidf)\n",
    "accuracy, f1_score, classifier = train_model(linear_model.LogisticRegression(multi_class='multinomial', solver='sag', max_iter=250), xtrain_tfidf, y_train, xvalid_tfidf)\n",
    "\n",
    "# Save the model to output folder\n",
    "filename = 'word-tfidf.pkl'\n",
    "with open(filename, 'wb') as fp:\n",
    "    pickle.dump(classifier, fp)\n",
    "\n",
    "# Print Accuracy and F1 score\n",
    "print(\"LR, WordLevel TF-IDF: \", accuracy, f1_score)\n",
    "end_t = time.time()\n",
    "print(\"Time: \",str(end_t-start_t),\" secs\")\n",
    "### ======================================== xxxxx ========================================="
   ]
  },
  {
   "cell_type": "code",
   "execution_count": 100,
   "metadata": {
    "execution": {
     "iopub.execute_input": "2021-12-11T08:59:27.423051Z",
     "iopub.status.busy": "2021-12-11T08:59:27.422344Z",
     "iopub.status.idle": "2021-12-11T08:59:29.418481Z",
     "shell.execute_reply": "2021-12-11T08:59:29.417643Z",
     "shell.execute_reply.started": "2021-12-11T08:59:27.423017Z"
    }
   },
   "outputs": [
    {
     "name": "stdout",
     "output_type": "stream",
     "text": [
      "Accuracy Score: 0.9242345614945511\n",
      "f1 Score: 0.9242101882106609\n"
     ]
    }
   ],
   "source": [
    "with open('word-tfidf.pkl', 'rb') as file_2:\n",
    "    clf_2 = pickle.load(file_2)\n",
    "predictions = clf_2.predict(xvalid_tfidf)\n",
    "acc = metrics.accuracy_score(predictions, y_test)\n",
    "f1 = metrics.f1_score(predictions, y_test, average='weighted')\n",
    "print(\"Accuracy Score: {}\".format(acc))\n",
    "print(\"f1 Score: {}\".format(f1))"
   ]
  },
  {
   "cell_type": "code",
   "execution_count": 101,
   "metadata": {
    "execution": {
     "iopub.execute_input": "2021-12-11T09:31:40.29563Z",
     "iopub.status.busy": "2021-12-11T09:31:40.295093Z",
     "iopub.status.idle": "2021-12-11T09:31:40.303101Z",
     "shell.execute_reply": "2021-12-11T09:31:40.30194Z",
     "shell.execute_reply.started": "2021-12-11T09:31:40.295595Z"
    }
   },
   "outputs": [],
   "source": [
    "del xtrain_tfidf\n",
    "del xvalid_tfidf\n",
    "del tfidf_vect"
   ]
  },
  {
   "cell_type": "markdown",
   "metadata": {},
   "source": [
    "## NGram Wod TF-IDF"
   ]
  },
  {
   "cell_type": "code",
   "execution_count": 102,
   "metadata": {
    "execution": {
     "iopub.execute_input": "2021-12-11T08:59:36.507687Z",
     "iopub.status.busy": "2021-12-11T08:59:36.507381Z",
     "iopub.status.idle": "2021-12-11T09:06:51.792394Z",
     "shell.execute_reply": "2021-12-11T09:06:51.79141Z",
     "shell.execute_reply.started": "2021-12-11T08:59:36.507653Z"
    }
   },
   "outputs": [
    {
     "name": "stdout",
     "output_type": "stream",
     "text": [
      "Wall time: 1.57 s\n"
     ]
    }
   ],
   "source": [
    "%%time\n",
    "## Feature Engineering: TF-IDF Vectorizer\n",
    "# ngram level tf-idf \n",
    "tfidf_vect_ngram = TfidfVectorizer(analyzer='word', ngram_range=(2,3), max_features=25000)\n",
    "tfidf_vect_ngram.fit(pd.concat([x_train, x_test], axis=0))\n",
    "xtrain_tfidf_ngram =  tfidf_vect_ngram.transform(x_train)\n",
    "xvalid_tfidf_ngram =  tfidf_vect_ngram.transform(x_test)"
   ]
  },
  {
   "cell_type": "code",
   "execution_count": 103,
   "metadata": {
    "execution": {
     "iopub.execute_input": "2021-12-11T09:08:22.756978Z",
     "iopub.status.busy": "2021-12-11T09:08:22.756331Z",
     "iopub.status.idle": "2021-12-11T09:17:19.866004Z",
     "shell.execute_reply": "2021-12-11T09:17:19.864973Z",
     "shell.execute_reply.started": "2021-12-11T09:08:22.756938Z"
    }
   },
   "outputs": [
    {
     "name": "stdout",
     "output_type": "stream",
     "text": [
      "LR, N-Gram Vectors:  0.8484691229891023 0.8487366018851483\n",
      "Time:  0.2000439167022705  secs\n",
      "Wall time: 202 ms\n"
     ]
    }
   ],
   "source": [
    "%%time\n",
    "# Linear Classifier on Ngram Level TF IDF Vectors\n",
    "start_t = time.time()\n",
    "# accuracy, f1_score, classifier = train_model(linear_model.LogisticRegression(multi_class='multinomial', solver='sag', max_iter=25000), xtrain_tfidf_ngram, train_y, xvalid_tfidf_ngram)\n",
    "accuracy, f1_score, classifier = train_model(linear_model.LogisticRegression(multi_class='multinomial', solver='sag', max_iter=250), xtrain_tfidf_ngram, y_train, xvalid_tfidf_ngram)\n",
    "\n",
    "# Save the model to output folder\n",
    "filename = 'ngram-tfidf.pkl'\n",
    "with open(filename, 'wb') as fp:\n",
    "    pickle.dump(classifier, fp)\n",
    "\n",
    "# Print Accuracy and F1 score\n",
    "print(\"LR, N-Gram Vectors: \", accuracy, f1_score)\n",
    "end_t = time.time()\n",
    "print(\"Time: \",str(end_t-start_t),\" secs\")\n",
    "### ======================================== xxxxx ========================================="
   ]
  },
  {
   "cell_type": "code",
   "execution_count": 104,
   "metadata": {
    "execution": {
     "iopub.execute_input": "2021-12-11T09:18:02.048249Z",
     "iopub.status.busy": "2021-12-11T09:18:02.047913Z",
     "iopub.status.idle": "2021-12-11T09:18:04.043845Z",
     "shell.execute_reply": "2021-12-11T09:18:04.043166Z",
     "shell.execute_reply.started": "2021-12-11T09:18:02.048213Z"
    }
   },
   "outputs": [
    {
     "name": "stdout",
     "output_type": "stream",
     "text": [
      "Accuracy Score: 0.8484691229891023\n",
      "f1 Score: 0.8487366018851483\n"
     ]
    }
   ],
   "source": [
    "with open('ngram-tfidf.pkl', 'rb') as fp:\n",
    "    classifier_ = pickle.load(fp)\n",
    "predictions = classifier_.predict(xvalid_tfidf_ngram)\n",
    "acc = metrics.accuracy_score(predictions, y_test)\n",
    "f1 = metrics.f1_score(predictions, y_test, average='weighted')\n",
    "print(\"Accuracy Score: {}\".format(acc))\n",
    "print(\"f1 Score: {}\".format(f1))"
   ]
  },
  {
   "cell_type": "code",
   "execution_count": 105,
   "metadata": {
    "execution": {
     "iopub.execute_input": "2021-12-11T09:31:22.286605Z",
     "iopub.status.busy": "2021-12-11T09:31:22.286293Z",
     "iopub.status.idle": "2021-12-11T09:31:22.293478Z",
     "shell.execute_reply": "2021-12-11T09:31:22.29246Z",
     "shell.execute_reply.started": "2021-12-11T09:31:22.286569Z"
    }
   },
   "outputs": [],
   "source": [
    "del xtrain_tfidf_ngram\n",
    "del xvalid_tfidf_ngram\n",
    "del tfidf_vect_ngram"
   ]
  },
  {
   "cell_type": "markdown",
   "metadata": {},
   "source": [
    "## Char TF-IDF"
   ]
  },
  {
   "cell_type": "code",
   "execution_count": 106,
   "metadata": {
    "execution": {
     "iopub.execute_input": "2021-12-11T09:18:28.457538Z",
     "iopub.status.busy": "2021-12-11T09:18:28.456928Z",
     "iopub.status.idle": "2021-12-11T09:28:43.968792Z",
     "shell.execute_reply": "2021-12-11T09:28:43.967813Z",
     "shell.execute_reply.started": "2021-12-11T09:18:28.4575Z"
    }
   },
   "outputs": [
    {
     "name": "stdout",
     "output_type": "stream",
     "text": [
      "Wall time: 3.59 s\n"
     ]
    }
   ],
   "source": [
    "%%time\n",
    "## Feature Engineering: TF-IDF Vectorizer\n",
    "# characters level tf-idf\n",
    "tfidf_vect_ngram_chars = TfidfVectorizer(analyzer='char', ngram_range=(2,3), max_features=25000)\n",
    "tfidf_vect_ngram_chars.fit(pd.concat([x_train, x_test], axis=0))\n",
    "xtrain_tfidf_ngram_chars =  tfidf_vect_ngram_chars.transform(x_train) \n",
    "xvalid_tfidf_ngram_chars =  tfidf_vect_ngram_chars.transform(x_test) "
   ]
  },
  {
   "cell_type": "code",
   "execution_count": 107,
   "metadata": {
    "execution": {
     "iopub.execute_input": "2021-12-11T09:32:02.615852Z",
     "iopub.status.busy": "2021-12-11T09:32:02.61555Z",
     "iopub.status.idle": "2021-12-11T10:40:56.455257Z",
     "shell.execute_reply": "2021-12-11T10:40:56.454194Z",
     "shell.execute_reply.started": "2021-12-11T09:32:02.615817Z"
    }
   },
   "outputs": [
    {
     "name": "stdout",
     "output_type": "stream",
     "text": [
      "LR, CharLevel Vectors:  0.9102231447846393 0.9101816570530166\n",
      "Time:  0.5531368255615234  secs\n",
      "Wall time: 553 ms\n"
     ]
    }
   ],
   "source": [
    "%%time\n",
    "# Linear Classifier on Character Level TF IDF Vectors\n",
    "start_t = time.time()\n",
    "# accuracy, f1_score, classifier = train_model(linear_model.LogisticRegression(multi_class='multinomial', solver='sag', max_iter=25000), xtrain_tfidf_ngram_chars, train_y, xvalid_tfidf_ngram_chars)\n",
    "accuracy, f1_score, classifier = train_model(linear_model.LogisticRegression(multi_class='multinomial', solver='sag', max_iter=250), xtrain_tfidf_ngram_chars, y_train, xvalid_tfidf_ngram_chars)\n",
    "\n",
    "# Save the model to output folder\n",
    "filename = 'char-tfidf.pkl'\n",
    "with open(filename, 'wb') as fp:\n",
    "    pickle.dump(classifier, fp)\n",
    "\n",
    "# Print Accuracy and F1 score\n",
    "print(\"LR, CharLevel Vectors: \", accuracy, f1_score)\n",
    "end_t = time.time()\n",
    "print(\"Time: \",str(end_t-start_t),\" secs\")"
   ]
  },
  {
   "cell_type": "code",
   "execution_count": 108,
   "metadata": {
    "execution": {
     "iopub.execute_input": "2021-12-11T10:52:09.901705Z",
     "iopub.status.busy": "2021-12-11T10:52:09.899638Z",
     "iopub.status.idle": "2021-12-11T10:52:16.746497Z",
     "shell.execute_reply": "2021-12-11T10:52:16.745759Z",
     "shell.execute_reply.started": "2021-12-11T10:52:09.901633Z"
    }
   },
   "outputs": [
    {
     "name": "stdout",
     "output_type": "stream",
     "text": [
      "Accuracy Score: 0.9102231447846393\n",
      "f1 Score: 0.9101816570530166\n"
     ]
    }
   ],
   "source": [
    "with open('char-tfidf.pkl', 'rb') as fp:\n",
    "    classifier_ = pickle.load(fp)\n",
    "predictions = classifier_.predict(xvalid_tfidf_ngram_chars)\n",
    "acc = metrics.accuracy_score(predictions, y_test)\n",
    "f1 = metrics.f1_score(predictions, y_test, average='weighted')\n",
    "print(\"Accuracy Score: {}\".format(acc))\n",
    "print(\"f1 Score: {}\".format(f1))"
   ]
  },
  {
   "cell_type": "code",
   "execution_count": 115,
   "metadata": {},
   "outputs": [
    {
     "name": "stdout",
     "output_type": "stream",
     "text": [
      "Real\n"
     ]
    }
   ],
   "source": [
    "# tweet = [\"US COVID-19 EXPERTS said today that USA needs to immediately begin vaccinating A MINIMUM of 100,000 inoculations/day. AT THAT PACE it’ll take a minimum of 660 days to get enough vaccinated - +2 years! Using Trump’s rollout it’ll take 8 years for USA to be vaccinated!\"]\n",
    "tweet = [\"The CDC currently reports 99031 deaths. In general the discrepancies in death counts between different sources are small and explicable. The death toll stands at roughly 100000 people today.\"]\n",
    "# tweet = [\"China president xi jinping visited masjid and request Muslims for dua in present crisis country going through.we need your help.\"]\n",
    "# tweet = [\"Because of Donald Trump's negligence and incompetence:   - More than 110,000 people have died - We have nearly 2 million cases of COVID-19 - Over 20 million Americans are out of work   And yet he’s patting himself on the back. Unbelievable.\"]\n",
    "# tweet = [\"India has successfully vaccinated all of its population.\"]\n",
    "# tweet = [\"It's just astounding that the highest rates per capita of covid are in counties that voted solidly for Donald Trump. It's overwhelming since a very significant percentage of our population is kind of in a mass state of denial\"]\n",
    "# tweet = [\"An old family friend died from #COVID__19 today. At a hospital in Denver. Because Amarillo hospitals had no room. \"]\n",
    "chars =  tfidf_vect_ngram_chars.transform(tweet)\n",
    "result = classifier_.predict(chars)[0]\n",
    "if result==0:\n",
    "    print(\"Fake\")\n",
    "else:\n",
    "    print(\"Real\")"
   ]
  }
 ],
 "metadata": {
  "kernelspec": {
   "display_name": "Python 3",
   "language": "python",
   "name": "python3"
  },
  "language_info": {
   "codemirror_mode": {
    "name": "ipython",
    "version": 3
   },
   "file_extension": ".py",
   "mimetype": "text/x-python",
   "name": "python",
   "nbconvert_exporter": "python",
   "pygments_lexer": "ipython3",
   "version": "3.7.4"
  }
 },
 "nbformat": 4,
 "nbformat_minor": 4
}
