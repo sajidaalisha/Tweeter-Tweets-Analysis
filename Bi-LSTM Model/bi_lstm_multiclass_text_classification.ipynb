{
  "cells": [
    {
      "cell_type": "markdown",
      "metadata": {
        "id": "worst-charlotte"
      },
      "source": [
        "# Libraries"
      ]
    },
    {
      "cell_type": "code",
      "execution_count": null,
      "metadata": {
        "execution": {
          "iopub.execute_input": "2022-04-24T10:56:17.177127Z",
          "iopub.status.busy": "2022-04-24T10:56:17.176453Z",
          "iopub.status.idle": "2022-04-24T10:56:17.189033Z",
          "shell.execute_reply": "2022-04-24T10:56:17.188300Z",
          "shell.execute_reply.started": "2022-04-24T10:56:17.177085Z"
        },
        "id": "A9VsJVnuaACm",
        "outputId": "752384b1-95fe-47e2-9883-a397593a6dc7",
        "colab": {
          "base_uri": "https://localhost:8080/",
          "height": 35
        }
      },
      "outputs": [
        {
          "output_type": "execute_result",
          "data": {
            "text/plain": [
              "'/device:GPU:0'"
            ],
            "application/vnd.google.colaboratory.intrinsic+json": {
              "type": "string"
            }
          },
          "metadata": {},
          "execution_count": 5
        }
      ],
      "source": [
        "import pandas as pd\n",
        "import re\n",
        "import matplotlib.pyplot as plt\n",
        "import tensorflow as tf\n",
        "\n",
        "from tensorflow.python.client import device_lib\n",
        "tf.test.gpu_device_name()"
      ]
    },
    {
      "cell_type": "code",
      "execution_count": null,
      "metadata": {
        "execution": {
          "iopub.execute_input": "2022-04-24T12:26:52.514094Z",
          "iopub.status.busy": "2022-04-24T12:26:52.513481Z",
          "iopub.status.idle": "2022-04-24T12:26:52.518914Z",
          "shell.execute_reply": "2022-04-24T12:26:52.517796Z",
          "shell.execute_reply.started": "2022-04-24T12:26:52.514053Z"
        },
        "id": "FQh6piZgMAAO"
      },
      "outputs": [],
      "source": [
        "import pickle\n",
        "from tqdm import tqdm\n",
        "import numpy as np\n",
        "from sklearn.metrics import f1_score\n",
        "import sklearn\n",
        "from sklearn.metrics import precision_recall_fscore_support as score"
      ]
    },
    {
      "cell_type": "markdown",
      "metadata": {
        "id": "dominant-bible"
      },
      "source": [
        "# 1. Reading and Analysing DataFrame"
      ]
    },
    {
      "cell_type": "code",
      "execution_count": null,
      "metadata": {
        "execution": {
          "iopub.execute_input": "2022-04-24T11:23:22.457966Z",
          "iopub.status.busy": "2022-04-24T11:23:22.457678Z",
          "iopub.status.idle": "2022-04-24T11:23:25.975774Z",
          "shell.execute_reply": "2022-04-24T11:23:25.975040Z",
          "shell.execute_reply.started": "2022-04-24T11:23:22.457936Z"
        },
        "id": "Bw2-IRtoMAAW"
      },
      "outputs": [],
      "source": [
        "data = pd.read_csv('data.tsv', sep=\"\\t\")"
      ]
    },
    {
      "cell_type": "code",
      "source": [
        "data.head()"
      ],
      "metadata": {
        "colab": {
          "base_uri": "https://localhost:8080/",
          "height": 206
        },
        "id": "_sKO1rPZONHA",
        "outputId": "321447e4-d1a7-49fe-916e-7380bd369b4c"
      },
      "execution_count": null,
      "outputs": [
        {
          "output_type": "execute_result",
          "data": {
            "text/plain": [
              "   id                                              tweet label\n",
              "0   1  The CDC currently reports 99031 deaths. In gen...  real\n",
              "1   2  States reported 1121 deaths a small rise from ...  real\n",
              "2   3  Politically Correct Woman (Almost) Uses Pandem...  fake\n",
              "3   4  #IndiaFightsCorona: We have 1524 #COVID testin...  real\n",
              "4   5  Populous states can generate large case counts...  real"
            ],
            "text/html": [
              "\n",
              "  <div id=\"df-4ab0d329-738c-4f43-a1c2-2d80ff1a5f0f\">\n",
              "    <div class=\"colab-df-container\">\n",
              "      <div>\n",
              "<style scoped>\n",
              "    .dataframe tbody tr th:only-of-type {\n",
              "        vertical-align: middle;\n",
              "    }\n",
              "\n",
              "    .dataframe tbody tr th {\n",
              "        vertical-align: top;\n",
              "    }\n",
              "\n",
              "    .dataframe thead th {\n",
              "        text-align: right;\n",
              "    }\n",
              "</style>\n",
              "<table border=\"1\" class=\"dataframe\">\n",
              "  <thead>\n",
              "    <tr style=\"text-align: right;\">\n",
              "      <th></th>\n",
              "      <th>id</th>\n",
              "      <th>tweet</th>\n",
              "      <th>label</th>\n",
              "    </tr>\n",
              "  </thead>\n",
              "  <tbody>\n",
              "    <tr>\n",
              "      <th>0</th>\n",
              "      <td>1</td>\n",
              "      <td>The CDC currently reports 99031 deaths. In gen...</td>\n",
              "      <td>real</td>\n",
              "    </tr>\n",
              "    <tr>\n",
              "      <th>1</th>\n",
              "      <td>2</td>\n",
              "      <td>States reported 1121 deaths a small rise from ...</td>\n",
              "      <td>real</td>\n",
              "    </tr>\n",
              "    <tr>\n",
              "      <th>2</th>\n",
              "      <td>3</td>\n",
              "      <td>Politically Correct Woman (Almost) Uses Pandem...</td>\n",
              "      <td>fake</td>\n",
              "    </tr>\n",
              "    <tr>\n",
              "      <th>3</th>\n",
              "      <td>4</td>\n",
              "      <td>#IndiaFightsCorona: We have 1524 #COVID testin...</td>\n",
              "      <td>real</td>\n",
              "    </tr>\n",
              "    <tr>\n",
              "      <th>4</th>\n",
              "      <td>5</td>\n",
              "      <td>Populous states can generate large case counts...</td>\n",
              "      <td>real</td>\n",
              "    </tr>\n",
              "  </tbody>\n",
              "</table>\n",
              "</div>\n",
              "      <button class=\"colab-df-convert\" onclick=\"convertToInteractive('df-4ab0d329-738c-4f43-a1c2-2d80ff1a5f0f')\"\n",
              "              title=\"Convert this dataframe to an interactive table.\"\n",
              "              style=\"display:none;\">\n",
              "        \n",
              "  <svg xmlns=\"http://www.w3.org/2000/svg\" height=\"24px\"viewBox=\"0 0 24 24\"\n",
              "       width=\"24px\">\n",
              "    <path d=\"M0 0h24v24H0V0z\" fill=\"none\"/>\n",
              "    <path d=\"M18.56 5.44l.94 2.06.94-2.06 2.06-.94-2.06-.94-.94-2.06-.94 2.06-2.06.94zm-11 1L8.5 8.5l.94-2.06 2.06-.94-2.06-.94L8.5 2.5l-.94 2.06-2.06.94zm10 10l.94 2.06.94-2.06 2.06-.94-2.06-.94-.94-2.06-.94 2.06-2.06.94z\"/><path d=\"M17.41 7.96l-1.37-1.37c-.4-.4-.92-.59-1.43-.59-.52 0-1.04.2-1.43.59L10.3 9.45l-7.72 7.72c-.78.78-.78 2.05 0 2.83L4 21.41c.39.39.9.59 1.41.59.51 0 1.02-.2 1.41-.59l7.78-7.78 2.81-2.81c.8-.78.8-2.07 0-2.86zM5.41 20L4 18.59l7.72-7.72 1.47 1.35L5.41 20z\"/>\n",
              "  </svg>\n",
              "      </button>\n",
              "      \n",
              "  <style>\n",
              "    .colab-df-container {\n",
              "      display:flex;\n",
              "      flex-wrap:wrap;\n",
              "      gap: 12px;\n",
              "    }\n",
              "\n",
              "    .colab-df-convert {\n",
              "      background-color: #E8F0FE;\n",
              "      border: none;\n",
              "      border-radius: 50%;\n",
              "      cursor: pointer;\n",
              "      display: none;\n",
              "      fill: #1967D2;\n",
              "      height: 32px;\n",
              "      padding: 0 0 0 0;\n",
              "      width: 32px;\n",
              "    }\n",
              "\n",
              "    .colab-df-convert:hover {\n",
              "      background-color: #E2EBFA;\n",
              "      box-shadow: 0px 1px 2px rgba(60, 64, 67, 0.3), 0px 1px 3px 1px rgba(60, 64, 67, 0.15);\n",
              "      fill: #174EA6;\n",
              "    }\n",
              "\n",
              "    [theme=dark] .colab-df-convert {\n",
              "      background-color: #3B4455;\n",
              "      fill: #D2E3FC;\n",
              "    }\n",
              "\n",
              "    [theme=dark] .colab-df-convert:hover {\n",
              "      background-color: #434B5C;\n",
              "      box-shadow: 0px 1px 3px 1px rgba(0, 0, 0, 0.15);\n",
              "      filter: drop-shadow(0px 1px 2px rgba(0, 0, 0, 0.3));\n",
              "      fill: #FFFFFF;\n",
              "    }\n",
              "  </style>\n",
              "\n",
              "      <script>\n",
              "        const buttonEl =\n",
              "          document.querySelector('#df-4ab0d329-738c-4f43-a1c2-2d80ff1a5f0f button.colab-df-convert');\n",
              "        buttonEl.style.display =\n",
              "          google.colab.kernel.accessAllowed ? 'block' : 'none';\n",
              "\n",
              "        async function convertToInteractive(key) {\n",
              "          const element = document.querySelector('#df-4ab0d329-738c-4f43-a1c2-2d80ff1a5f0f');\n",
              "          const dataTable =\n",
              "            await google.colab.kernel.invokeFunction('convertToInteractive',\n",
              "                                                     [key], {});\n",
              "          if (!dataTable) return;\n",
              "\n",
              "          const docLinkHtml = 'Like what you see? Visit the ' +\n",
              "            '<a target=\"_blank\" href=https://colab.research.google.com/notebooks/data_table.ipynb>data table notebook</a>'\n",
              "            + ' to learn more about interactive tables.';\n",
              "          element.innerHTML = '';\n",
              "          dataTable['output_type'] = 'display_data';\n",
              "          await google.colab.output.renderOutput(dataTable, element);\n",
              "          const docLink = document.createElement('div');\n",
              "          docLink.innerHTML = docLinkHtml;\n",
              "          element.appendChild(docLink);\n",
              "        }\n",
              "      </script>\n",
              "    </div>\n",
              "  </div>\n",
              "  "
            ]
          },
          "metadata": {},
          "execution_count": 16
        }
      ]
    },
    {
      "cell_type": "code",
      "source": [
        "data.label.value_counts()"
      ],
      "metadata": {
        "colab": {
          "base_uri": "https://localhost:8080/"
        },
        "id": "3mtvUIZbSnRP",
        "outputId": "af4473a3-9d7b-4449-a2e6-625b440b1b03"
      },
      "execution_count": null,
      "outputs": [
        {
          "output_type": "execute_result",
          "data": {
            "text/plain": [
              "real    3361\n",
              "fake    3060\n",
              "Name: label, dtype: int64"
            ]
          },
          "metadata": {},
          "execution_count": 17
        }
      ]
    },
    {
      "cell_type": "code",
      "source": [
        "from sklearn.model_selection import train_test_split\n",
        "from sklearn.metrics import classification_report"
      ],
      "metadata": {
        "id": "hKm2UYthS6nS"
      },
      "execution_count": null,
      "outputs": []
    },
    {
      "cell_type": "code",
      "source": [
        "x = data['tweet']\n",
        "y = data['label']\n",
        "# print(x)"
      ],
      "metadata": {
        "id": "0wNpDSY7S-p5"
      },
      "execution_count": null,
      "outputs": []
    },
    {
      "cell_type": "code",
      "execution_count": null,
      "metadata": {
        "execution": {
          "iopub.execute_input": "2022-04-24T11:23:25.977766Z",
          "iopub.status.busy": "2022-04-24T11:23:25.977525Z",
          "iopub.status.idle": "2022-04-24T11:23:25.997126Z",
          "shell.execute_reply": "2022-04-24T11:23:25.996468Z",
          "shell.execute_reply.started": "2022-04-24T11:23:25.977733Z"
        },
        "id": "fLxnwSoqMAAc"
      },
      "outputs": [],
      "source": [
        "X_train, X_valid_test, Y_train, Y_valid_test = train_test_split(x, y,test_size=0.05, random_state=42)\n",
        "X_train, X_test, Y_train, Y_test = train_test_split(X_train, Y_train,test_size=0.05, random_state=42)\n",
        "\n",
        "train_df = pd.DataFrame(data = {'data': X_train, 'label': Y_train})\n",
        "test_df = pd.DataFrame(data = {'data': X_test, 'label': Y_test})\n",
        "dev_df = pd.DataFrame(data = {'data': X_valid_test, 'label': Y_valid_test})"
      ]
    },
    {
      "cell_type": "code",
      "source": [
        "# test_df"
      ],
      "metadata": {
        "id": "eCsHgCmUTKIr"
      },
      "execution_count": null,
      "outputs": []
    },
    {
      "cell_type": "code",
      "execution_count": null,
      "metadata": {
        "execution": {
          "iopub.execute_input": "2022-04-24T11:23:25.999787Z",
          "iopub.status.busy": "2022-04-24T11:23:25.999380Z",
          "iopub.status.idle": "2022-04-24T11:23:26.004968Z",
          "shell.execute_reply": "2022-04-24T11:23:26.004259Z",
          "shell.execute_reply.started": "2022-04-24T11:23:25.999749Z"
        },
        "id": "LUD2SxbFMAAj"
      },
      "outputs": [],
      "source": [
        "train_df.columns = ['tweet', 'label']\n",
        "dev_df.columns = ['tweet', 'label']\n",
        "test_df.columns = ['tweet', 'label']"
      ]
    },
    {
      "cell_type": "code",
      "execution_count": null,
      "metadata": {
        "execution": {
          "iopub.execute_input": "2022-04-24T11:23:28.208811Z",
          "iopub.status.busy": "2022-04-24T11:23:28.208270Z",
          "iopub.status.idle": "2022-04-24T11:23:28.222837Z",
          "shell.execute_reply": "2022-04-24T11:23:28.222152Z",
          "shell.execute_reply.started": "2022-04-24T11:23:28.208770Z"
        },
        "colab": {
          "base_uri": "https://localhost:8080/",
          "height": 206
        },
        "id": "Pv5geEqiMAAo",
        "outputId": "63019e8c-a0e9-4939-8e10-6ba22d599041"
      },
      "outputs": [
        {
          "output_type": "execute_result",
          "data": {
            "text/plain": [
              "                                                  tweet label\n",
              "3985  Coronavirus: 6000 new cases a day reported in ...  real\n",
              "1262  “With the expanded national case definition  a...  real\n",
              "5895  Update from @minhealthnz Today there is 1 new ...  real\n",
              "240   First there’ll be some changes in how we track...  real\n",
              "40    We launched the #COVID19 Solidarity Response F...  real"
            ],
            "text/html": [
              "\n",
              "  <div id=\"df-c1b700b5-ca61-4098-872d-a3722e62dbbf\">\n",
              "    <div class=\"colab-df-container\">\n",
              "      <div>\n",
              "<style scoped>\n",
              "    .dataframe tbody tr th:only-of-type {\n",
              "        vertical-align: middle;\n",
              "    }\n",
              "\n",
              "    .dataframe tbody tr th {\n",
              "        vertical-align: top;\n",
              "    }\n",
              "\n",
              "    .dataframe thead th {\n",
              "        text-align: right;\n",
              "    }\n",
              "</style>\n",
              "<table border=\"1\" class=\"dataframe\">\n",
              "  <thead>\n",
              "    <tr style=\"text-align: right;\">\n",
              "      <th></th>\n",
              "      <th>tweet</th>\n",
              "      <th>label</th>\n",
              "    </tr>\n",
              "  </thead>\n",
              "  <tbody>\n",
              "    <tr>\n",
              "      <th>3985</th>\n",
              "      <td>Coronavirus: 6000 new cases a day reported in ...</td>\n",
              "      <td>real</td>\n",
              "    </tr>\n",
              "    <tr>\n",
              "      <th>1262</th>\n",
              "      <td>“With the expanded national case definition  a...</td>\n",
              "      <td>real</td>\n",
              "    </tr>\n",
              "    <tr>\n",
              "      <th>5895</th>\n",
              "      <td>Update from @minhealthnz Today there is 1 new ...</td>\n",
              "      <td>real</td>\n",
              "    </tr>\n",
              "    <tr>\n",
              "      <th>240</th>\n",
              "      <td>First there’ll be some changes in how we track...</td>\n",
              "      <td>real</td>\n",
              "    </tr>\n",
              "    <tr>\n",
              "      <th>40</th>\n",
              "      <td>We launched the #COVID19 Solidarity Response F...</td>\n",
              "      <td>real</td>\n",
              "    </tr>\n",
              "  </tbody>\n",
              "</table>\n",
              "</div>\n",
              "      <button class=\"colab-df-convert\" onclick=\"convertToInteractive('df-c1b700b5-ca61-4098-872d-a3722e62dbbf')\"\n",
              "              title=\"Convert this dataframe to an interactive table.\"\n",
              "              style=\"display:none;\">\n",
              "        \n",
              "  <svg xmlns=\"http://www.w3.org/2000/svg\" height=\"24px\"viewBox=\"0 0 24 24\"\n",
              "       width=\"24px\">\n",
              "    <path d=\"M0 0h24v24H0V0z\" fill=\"none\"/>\n",
              "    <path d=\"M18.56 5.44l.94 2.06.94-2.06 2.06-.94-2.06-.94-.94-2.06-.94 2.06-2.06.94zm-11 1L8.5 8.5l.94-2.06 2.06-.94-2.06-.94L8.5 2.5l-.94 2.06-2.06.94zm10 10l.94 2.06.94-2.06 2.06-.94-2.06-.94-.94-2.06-.94 2.06-2.06.94z\"/><path d=\"M17.41 7.96l-1.37-1.37c-.4-.4-.92-.59-1.43-.59-.52 0-1.04.2-1.43.59L10.3 9.45l-7.72 7.72c-.78.78-.78 2.05 0 2.83L4 21.41c.39.39.9.59 1.41.59.51 0 1.02-.2 1.41-.59l7.78-7.78 2.81-2.81c.8-.78.8-2.07 0-2.86zM5.41 20L4 18.59l7.72-7.72 1.47 1.35L5.41 20z\"/>\n",
              "  </svg>\n",
              "      </button>\n",
              "      \n",
              "  <style>\n",
              "    .colab-df-container {\n",
              "      display:flex;\n",
              "      flex-wrap:wrap;\n",
              "      gap: 12px;\n",
              "    }\n",
              "\n",
              "    .colab-df-convert {\n",
              "      background-color: #E8F0FE;\n",
              "      border: none;\n",
              "      border-radius: 50%;\n",
              "      cursor: pointer;\n",
              "      display: none;\n",
              "      fill: #1967D2;\n",
              "      height: 32px;\n",
              "      padding: 0 0 0 0;\n",
              "      width: 32px;\n",
              "    }\n",
              "\n",
              "    .colab-df-convert:hover {\n",
              "      background-color: #E2EBFA;\n",
              "      box-shadow: 0px 1px 2px rgba(60, 64, 67, 0.3), 0px 1px 3px 1px rgba(60, 64, 67, 0.15);\n",
              "      fill: #174EA6;\n",
              "    }\n",
              "\n",
              "    [theme=dark] .colab-df-convert {\n",
              "      background-color: #3B4455;\n",
              "      fill: #D2E3FC;\n",
              "    }\n",
              "\n",
              "    [theme=dark] .colab-df-convert:hover {\n",
              "      background-color: #434B5C;\n",
              "      box-shadow: 0px 1px 3px 1px rgba(0, 0, 0, 0.15);\n",
              "      filter: drop-shadow(0px 1px 2px rgba(0, 0, 0, 0.3));\n",
              "      fill: #FFFFFF;\n",
              "    }\n",
              "  </style>\n",
              "\n",
              "      <script>\n",
              "        const buttonEl =\n",
              "          document.querySelector('#df-c1b700b5-ca61-4098-872d-a3722e62dbbf button.colab-df-convert');\n",
              "        buttonEl.style.display =\n",
              "          google.colab.kernel.accessAllowed ? 'block' : 'none';\n",
              "\n",
              "        async function convertToInteractive(key) {\n",
              "          const element = document.querySelector('#df-c1b700b5-ca61-4098-872d-a3722e62dbbf');\n",
              "          const dataTable =\n",
              "            await google.colab.kernel.invokeFunction('convertToInteractive',\n",
              "                                                     [key], {});\n",
              "          if (!dataTable) return;\n",
              "\n",
              "          const docLinkHtml = 'Like what you see? Visit the ' +\n",
              "            '<a target=\"_blank\" href=https://colab.research.google.com/notebooks/data_table.ipynb>data table notebook</a>'\n",
              "            + ' to learn more about interactive tables.';\n",
              "          element.innerHTML = '';\n",
              "          dataTable['output_type'] = 'display_data';\n",
              "          await google.colab.output.renderOutput(dataTable, element);\n",
              "          const docLink = document.createElement('div');\n",
              "          docLink.innerHTML = docLinkHtml;\n",
              "          element.appendChild(docLink);\n",
              "        }\n",
              "      </script>\n",
              "    </div>\n",
              "  </div>\n",
              "  "
            ]
          },
          "metadata": {},
          "execution_count": 26
        }
      ],
      "source": [
        "train_df.head()"
      ]
    },
    {
      "cell_type": "code",
      "execution_count": null,
      "metadata": {
        "execution": {
          "iopub.execute_input": "2022-04-24T11:23:28.724249Z",
          "iopub.status.busy": "2022-04-24T11:23:28.723957Z",
          "iopub.status.idle": "2022-04-24T11:23:28.734228Z",
          "shell.execute_reply": "2022-04-24T11:23:28.733244Z",
          "shell.execute_reply.started": "2022-04-24T11:23:28.724217Z"
        },
        "colab": {
          "base_uri": "https://localhost:8080/",
          "height": 206
        },
        "id": "b8s2nuyrMAA1",
        "outputId": "848b249f-4e3b-46c8-a3b7-a5de8efcb247"
      },
      "outputs": [
        {
          "output_type": "execute_result",
          "data": {
            "text/plain": [
              "                                                  tweet label\n",
              "324   Canada’s top BDSM doctor says wear a mask, lea...  fake\n",
              "1340  There are 3 cases considered to have recovered...  real\n",
              "6026  #CoronaVirusUpdates: State-wise details of Tot...  real\n",
              "2077  India records its highest single-day increase ...  fake\n",
              "381   Researchers warned of a ticking coronavirus ti...  real"
            ],
            "text/html": [
              "\n",
              "  <div id=\"df-98b75785-4424-480a-b2e6-6e39ae058646\">\n",
              "    <div class=\"colab-df-container\">\n",
              "      <div>\n",
              "<style scoped>\n",
              "    .dataframe tbody tr th:only-of-type {\n",
              "        vertical-align: middle;\n",
              "    }\n",
              "\n",
              "    .dataframe tbody tr th {\n",
              "        vertical-align: top;\n",
              "    }\n",
              "\n",
              "    .dataframe thead th {\n",
              "        text-align: right;\n",
              "    }\n",
              "</style>\n",
              "<table border=\"1\" class=\"dataframe\">\n",
              "  <thead>\n",
              "    <tr style=\"text-align: right;\">\n",
              "      <th></th>\n",
              "      <th>tweet</th>\n",
              "      <th>label</th>\n",
              "    </tr>\n",
              "  </thead>\n",
              "  <tbody>\n",
              "    <tr>\n",
              "      <th>324</th>\n",
              "      <td>Canada’s top BDSM doctor says wear a mask, lea...</td>\n",
              "      <td>fake</td>\n",
              "    </tr>\n",
              "    <tr>\n",
              "      <th>1340</th>\n",
              "      <td>There are 3 cases considered to have recovered...</td>\n",
              "      <td>real</td>\n",
              "    </tr>\n",
              "    <tr>\n",
              "      <th>6026</th>\n",
              "      <td>#CoronaVirusUpdates: State-wise details of Tot...</td>\n",
              "      <td>real</td>\n",
              "    </tr>\n",
              "    <tr>\n",
              "      <th>2077</th>\n",
              "      <td>India records its highest single-day increase ...</td>\n",
              "      <td>fake</td>\n",
              "    </tr>\n",
              "    <tr>\n",
              "      <th>381</th>\n",
              "      <td>Researchers warned of a ticking coronavirus ti...</td>\n",
              "      <td>real</td>\n",
              "    </tr>\n",
              "  </tbody>\n",
              "</table>\n",
              "</div>\n",
              "      <button class=\"colab-df-convert\" onclick=\"convertToInteractive('df-98b75785-4424-480a-b2e6-6e39ae058646')\"\n",
              "              title=\"Convert this dataframe to an interactive table.\"\n",
              "              style=\"display:none;\">\n",
              "        \n",
              "  <svg xmlns=\"http://www.w3.org/2000/svg\" height=\"24px\"viewBox=\"0 0 24 24\"\n",
              "       width=\"24px\">\n",
              "    <path d=\"M0 0h24v24H0V0z\" fill=\"none\"/>\n",
              "    <path d=\"M18.56 5.44l.94 2.06.94-2.06 2.06-.94-2.06-.94-.94-2.06-.94 2.06-2.06.94zm-11 1L8.5 8.5l.94-2.06 2.06-.94-2.06-.94L8.5 2.5l-.94 2.06-2.06.94zm10 10l.94 2.06.94-2.06 2.06-.94-2.06-.94-.94-2.06-.94 2.06-2.06.94z\"/><path d=\"M17.41 7.96l-1.37-1.37c-.4-.4-.92-.59-1.43-.59-.52 0-1.04.2-1.43.59L10.3 9.45l-7.72 7.72c-.78.78-.78 2.05 0 2.83L4 21.41c.39.39.9.59 1.41.59.51 0 1.02-.2 1.41-.59l7.78-7.78 2.81-2.81c.8-.78.8-2.07 0-2.86zM5.41 20L4 18.59l7.72-7.72 1.47 1.35L5.41 20z\"/>\n",
              "  </svg>\n",
              "      </button>\n",
              "      \n",
              "  <style>\n",
              "    .colab-df-container {\n",
              "      display:flex;\n",
              "      flex-wrap:wrap;\n",
              "      gap: 12px;\n",
              "    }\n",
              "\n",
              "    .colab-df-convert {\n",
              "      background-color: #E8F0FE;\n",
              "      border: none;\n",
              "      border-radius: 50%;\n",
              "      cursor: pointer;\n",
              "      display: none;\n",
              "      fill: #1967D2;\n",
              "      height: 32px;\n",
              "      padding: 0 0 0 0;\n",
              "      width: 32px;\n",
              "    }\n",
              "\n",
              "    .colab-df-convert:hover {\n",
              "      background-color: #E2EBFA;\n",
              "      box-shadow: 0px 1px 2px rgba(60, 64, 67, 0.3), 0px 1px 3px 1px rgba(60, 64, 67, 0.15);\n",
              "      fill: #174EA6;\n",
              "    }\n",
              "\n",
              "    [theme=dark] .colab-df-convert {\n",
              "      background-color: #3B4455;\n",
              "      fill: #D2E3FC;\n",
              "    }\n",
              "\n",
              "    [theme=dark] .colab-df-convert:hover {\n",
              "      background-color: #434B5C;\n",
              "      box-shadow: 0px 1px 3px 1px rgba(0, 0, 0, 0.15);\n",
              "      filter: drop-shadow(0px 1px 2px rgba(0, 0, 0, 0.3));\n",
              "      fill: #FFFFFF;\n",
              "    }\n",
              "  </style>\n",
              "\n",
              "      <script>\n",
              "        const buttonEl =\n",
              "          document.querySelector('#df-98b75785-4424-480a-b2e6-6e39ae058646 button.colab-df-convert');\n",
              "        buttonEl.style.display =\n",
              "          google.colab.kernel.accessAllowed ? 'block' : 'none';\n",
              "\n",
              "        async function convertToInteractive(key) {\n",
              "          const element = document.querySelector('#df-98b75785-4424-480a-b2e6-6e39ae058646');\n",
              "          const dataTable =\n",
              "            await google.colab.kernel.invokeFunction('convertToInteractive',\n",
              "                                                     [key], {});\n",
              "          if (!dataTable) return;\n",
              "\n",
              "          const docLinkHtml = 'Like what you see? Visit the ' +\n",
              "            '<a target=\"_blank\" href=https://colab.research.google.com/notebooks/data_table.ipynb>data table notebook</a>'\n",
              "            + ' to learn more about interactive tables.';\n",
              "          element.innerHTML = '';\n",
              "          dataTable['output_type'] = 'display_data';\n",
              "          await google.colab.output.renderOutput(dataTable, element);\n",
              "          const docLink = document.createElement('div');\n",
              "          docLink.innerHTML = docLinkHtml;\n",
              "          element.appendChild(docLink);\n",
              "        }\n",
              "      </script>\n",
              "    </div>\n",
              "  </div>\n",
              "  "
            ]
          },
          "metadata": {},
          "execution_count": 27
        }
      ],
      "source": [
        "dev_df.head()"
      ]
    },
    {
      "cell_type": "code",
      "execution_count": null,
      "metadata": {
        "execution": {
          "iopub.execute_input": "2022-04-24T11:23:28.860940Z",
          "iopub.status.busy": "2022-04-24T11:23:28.860738Z",
          "iopub.status.idle": "2022-04-24T11:23:28.869177Z",
          "shell.execute_reply": "2022-04-24T11:23:28.868197Z",
          "shell.execute_reply.started": "2022-04-24T11:23:28.860916Z"
        },
        "colab": {
          "base_uri": "https://localhost:8080/",
          "height": 206
        },
        "id": "eMUMc4vZMAA4",
        "outputId": "08d27882-f4b5-472d-9ae1-bbde619d28c8"
      },
      "outputs": [
        {
          "output_type": "execute_result",
          "data": {
            "text/plain": [
              "                                                  tweet label\n",
              "4006  CDC Says Despite Rumors, Mimes Not Safe From C...  fake\n",
              "5749  RT @MoHFW_INDIA: #IndiaFightsCorona India has ...  real\n",
              "443   API users beware: there is a major caveat in t...  real\n",
              "4244  38 % of Americans won't buy Corona beer due to...  fake\n",
              "598   The coronavirus disease is caused by a bacteri...  fake"
            ],
            "text/html": [
              "\n",
              "  <div id=\"df-d5e7814d-fb7c-4c4d-836b-ef0a94a58548\">\n",
              "    <div class=\"colab-df-container\">\n",
              "      <div>\n",
              "<style scoped>\n",
              "    .dataframe tbody tr th:only-of-type {\n",
              "        vertical-align: middle;\n",
              "    }\n",
              "\n",
              "    .dataframe tbody tr th {\n",
              "        vertical-align: top;\n",
              "    }\n",
              "\n",
              "    .dataframe thead th {\n",
              "        text-align: right;\n",
              "    }\n",
              "</style>\n",
              "<table border=\"1\" class=\"dataframe\">\n",
              "  <thead>\n",
              "    <tr style=\"text-align: right;\">\n",
              "      <th></th>\n",
              "      <th>tweet</th>\n",
              "      <th>label</th>\n",
              "    </tr>\n",
              "  </thead>\n",
              "  <tbody>\n",
              "    <tr>\n",
              "      <th>4006</th>\n",
              "      <td>CDC Says Despite Rumors, Mimes Not Safe From C...</td>\n",
              "      <td>fake</td>\n",
              "    </tr>\n",
              "    <tr>\n",
              "      <th>5749</th>\n",
              "      <td>RT @MoHFW_INDIA: #IndiaFightsCorona India has ...</td>\n",
              "      <td>real</td>\n",
              "    </tr>\n",
              "    <tr>\n",
              "      <th>443</th>\n",
              "      <td>API users beware: there is a major caveat in t...</td>\n",
              "      <td>real</td>\n",
              "    </tr>\n",
              "    <tr>\n",
              "      <th>4244</th>\n",
              "      <td>38 % of Americans won't buy Corona beer due to...</td>\n",
              "      <td>fake</td>\n",
              "    </tr>\n",
              "    <tr>\n",
              "      <th>598</th>\n",
              "      <td>The coronavirus disease is caused by a bacteri...</td>\n",
              "      <td>fake</td>\n",
              "    </tr>\n",
              "  </tbody>\n",
              "</table>\n",
              "</div>\n",
              "      <button class=\"colab-df-convert\" onclick=\"convertToInteractive('df-d5e7814d-fb7c-4c4d-836b-ef0a94a58548')\"\n",
              "              title=\"Convert this dataframe to an interactive table.\"\n",
              "              style=\"display:none;\">\n",
              "        \n",
              "  <svg xmlns=\"http://www.w3.org/2000/svg\" height=\"24px\"viewBox=\"0 0 24 24\"\n",
              "       width=\"24px\">\n",
              "    <path d=\"M0 0h24v24H0V0z\" fill=\"none\"/>\n",
              "    <path d=\"M18.56 5.44l.94 2.06.94-2.06 2.06-.94-2.06-.94-.94-2.06-.94 2.06-2.06.94zm-11 1L8.5 8.5l.94-2.06 2.06-.94-2.06-.94L8.5 2.5l-.94 2.06-2.06.94zm10 10l.94 2.06.94-2.06 2.06-.94-2.06-.94-.94-2.06-.94 2.06-2.06.94z\"/><path d=\"M17.41 7.96l-1.37-1.37c-.4-.4-.92-.59-1.43-.59-.52 0-1.04.2-1.43.59L10.3 9.45l-7.72 7.72c-.78.78-.78 2.05 0 2.83L4 21.41c.39.39.9.59 1.41.59.51 0 1.02-.2 1.41-.59l7.78-7.78 2.81-2.81c.8-.78.8-2.07 0-2.86zM5.41 20L4 18.59l7.72-7.72 1.47 1.35L5.41 20z\"/>\n",
              "  </svg>\n",
              "      </button>\n",
              "      \n",
              "  <style>\n",
              "    .colab-df-container {\n",
              "      display:flex;\n",
              "      flex-wrap:wrap;\n",
              "      gap: 12px;\n",
              "    }\n",
              "\n",
              "    .colab-df-convert {\n",
              "      background-color: #E8F0FE;\n",
              "      border: none;\n",
              "      border-radius: 50%;\n",
              "      cursor: pointer;\n",
              "      display: none;\n",
              "      fill: #1967D2;\n",
              "      height: 32px;\n",
              "      padding: 0 0 0 0;\n",
              "      width: 32px;\n",
              "    }\n",
              "\n",
              "    .colab-df-convert:hover {\n",
              "      background-color: #E2EBFA;\n",
              "      box-shadow: 0px 1px 2px rgba(60, 64, 67, 0.3), 0px 1px 3px 1px rgba(60, 64, 67, 0.15);\n",
              "      fill: #174EA6;\n",
              "    }\n",
              "\n",
              "    [theme=dark] .colab-df-convert {\n",
              "      background-color: #3B4455;\n",
              "      fill: #D2E3FC;\n",
              "    }\n",
              "\n",
              "    [theme=dark] .colab-df-convert:hover {\n",
              "      background-color: #434B5C;\n",
              "      box-shadow: 0px 1px 3px 1px rgba(0, 0, 0, 0.15);\n",
              "      filter: drop-shadow(0px 1px 2px rgba(0, 0, 0, 0.3));\n",
              "      fill: #FFFFFF;\n",
              "    }\n",
              "  </style>\n",
              "\n",
              "      <script>\n",
              "        const buttonEl =\n",
              "          document.querySelector('#df-d5e7814d-fb7c-4c4d-836b-ef0a94a58548 button.colab-df-convert');\n",
              "        buttonEl.style.display =\n",
              "          google.colab.kernel.accessAllowed ? 'block' : 'none';\n",
              "\n",
              "        async function convertToInteractive(key) {\n",
              "          const element = document.querySelector('#df-d5e7814d-fb7c-4c4d-836b-ef0a94a58548');\n",
              "          const dataTable =\n",
              "            await google.colab.kernel.invokeFunction('convertToInteractive',\n",
              "                                                     [key], {});\n",
              "          if (!dataTable) return;\n",
              "\n",
              "          const docLinkHtml = 'Like what you see? Visit the ' +\n",
              "            '<a target=\"_blank\" href=https://colab.research.google.com/notebooks/data_table.ipynb>data table notebook</a>'\n",
              "            + ' to learn more about interactive tables.';\n",
              "          element.innerHTML = '';\n",
              "          dataTable['output_type'] = 'display_data';\n",
              "          await google.colab.output.renderOutput(dataTable, element);\n",
              "          const docLink = document.createElement('div');\n",
              "          docLink.innerHTML = docLinkHtml;\n",
              "          element.appendChild(docLink);\n",
              "        }\n",
              "      </script>\n",
              "    </div>\n",
              "  </div>\n",
              "  "
            ]
          },
          "metadata": {},
          "execution_count": 28
        }
      ],
      "source": [
        "test_df.head()"
      ]
    },
    {
      "cell_type": "code",
      "execution_count": null,
      "metadata": {
        "execution": {
          "iopub.execute_input": "2022-04-24T11:23:33.738466Z",
          "iopub.status.busy": "2022-04-24T11:23:33.738187Z",
          "iopub.status.idle": "2022-04-24T11:23:33.824400Z",
          "shell.execute_reply": "2022-04-24T11:23:33.823675Z",
          "shell.execute_reply.started": "2022-04-24T11:23:33.738435Z"
        },
        "colab": {
          "base_uri": "https://localhost:8080/"
        },
        "id": "h8Ga3ImUMAA7",
        "outputId": "7705cad8-d169-4c11-cc6a-5683d7ab80ec"
      },
      "outputs": [
        {
          "output_type": "stream",
          "name": "stdout",
          "text": [
            "* Size of dataframe: (5794, 2)\n",
            "\n",
            "* Datatype of columns are:\n",
            " tweet    object\n",
            "label    object\n",
            "dtype: object\n",
            "\n",
            "* Count of different categories:\n",
            " real    3047\n",
            "fake    2747\n",
            "Name: label, dtype: int64\n",
            "\n",
            "* Number of NaNs among text are: 0\n",
            "\n",
            "NaNs are removed from the dataframe. Number of NaNs can be confirmed to be 0. The size of dataframe has reduced to (5794, 2)\n",
            "* Size of dataframe: (322, 2)\n",
            "\n",
            "* Datatype of columns are:\n",
            " tweet    object\n",
            "label    object\n",
            "dtype: object\n",
            "\n",
            "* Count of different categories:\n",
            " real    174\n",
            "fake    148\n",
            "Name: label, dtype: int64\n",
            "\n",
            "* Number of NaNs among text are: 0\n",
            "\n",
            "NaNs are removed from the dataframe. Number of NaNs can be confirmed to be 0. The size of dataframe has reduced to (322, 2)\n",
            "* Size of dataframe: (305, 2)\n",
            "\n",
            "* Datatype of columns are:\n",
            " tweet    object\n",
            "label    object\n",
            "dtype: object\n",
            "\n",
            "* Count of different categories:\n",
            " fake    165\n",
            "real    140\n",
            "Name: label, dtype: int64\n",
            "\n",
            "* Number of NaNs among text are: 0\n",
            "\n",
            "NaNs are removed from the dataframe. Number of NaNs can be confirmed to be 0. The size of dataframe has reduced to (305, 2)\n"
          ]
        }
      ],
      "source": [
        "# Analysing train dataframe attributes \n",
        "print('* Size of dataframe: {}\\n'.format(train_df.shape))\n",
        "print('* Datatype of columns are:\\n {}\\n'.format(train_df.dtypes))\n",
        "print('* Count of different categories:\\n {}\\n'.format(train_df['label'].value_counts()))\n",
        "print('* Number of NaNs among text are: {}\\n'.format(train_df['tweet'].isnull().sum()))\n",
        "\n",
        "# Converting text to string\n",
        "train_df['tweet'] = train_df['tweet'].astype(str)\n",
        "\n",
        "# Removing NaNs\n",
        "train_df = train_df.dropna(subset=['tweet'])\n",
        "print('NaNs are removed from the dataframe. Number of NaNs can be confirmed to be {}. The size of dataframe has reduced to {}'.format(train_df['tweet'].isnull().sum(), train_df.shape))\n",
        "\n",
        "# Analysing dev dataframe attributes \n",
        "print('* Size of dataframe: {}\\n'.format(dev_df.shape))\n",
        "print('* Datatype of columns are:\\n {}\\n'.format(dev_df.dtypes))\n",
        "print('* Count of different categories:\\n {}\\n'.format(dev_df['label'].value_counts()))\n",
        "print('* Number of NaNs among text are: {}\\n'.format(dev_df['tweet'].isnull().sum())) \n",
        "\n",
        "# Converting text to string\n",
        "dev_df['tweet'] = dev_df['tweet'].astype(str)\n",
        "\n",
        "# Removing NaNs\n",
        "dev_df = dev_df.dropna(subset=['tweet'])\n",
        "print('NaNs are removed from the dataframe. Number of NaNs can be confirmed to be {}. The size of dataframe has reduced to {}'.format(dev_df['tweet'].isnull().sum(), dev_df.shape))\n",
        "\n",
        "# Analysing test dataframe attributes \n",
        "print('* Size of dataframe: {}\\n'.format(test_df.shape))\n",
        "print('* Datatype of columns are:\\n {}\\n'.format(test_df.dtypes))\n",
        "print('* Count of different categories:\\n {}\\n'.format(test_df['label'].value_counts()))\n",
        "print('* Number of NaNs among text are: {}\\n'.format(test_df['tweet'].isnull().sum()))\n",
        "\n",
        "# Converting text to string\n",
        "test_df['tweet'] = test_df['tweet'].astype(str)\n",
        "\n",
        "# Removing NaNs\n",
        "test_df = test_df.dropna(subset=['tweet'])\n",
        "print('NaNs are removed from the dataframe. Number of NaNs can be confirmed to be {}. The size of dataframe has reduced to {}'.format(test_df['tweet'].isnull().sum(), test_df.shape))"
      ]
    },
    {
      "cell_type": "code",
      "execution_count": null,
      "metadata": {
        "execution": {
          "iopub.execute_input": "2022-04-24T11:24:00.482542Z",
          "iopub.status.busy": "2022-04-24T11:24:00.482218Z",
          "iopub.status.idle": "2022-04-24T11:24:00.751640Z",
          "shell.execute_reply": "2022-04-24T11:24:00.750933Z",
          "shell.execute_reply.started": "2022-04-24T11:24:00.482504Z"
        },
        "colab": {
          "base_uri": "https://localhost:8080/",
          "height": 291
        },
        "id": "8DasihXTMABK",
        "outputId": "cc622935-82d2-44ba-ce40-831a304c581b"
      },
      "outputs": [
        {
          "output_type": "display_data",
          "data": {
            "text/plain": [
              "<Figure size 432x288 with 1 Axes>"
            ],
            "image/png": "[encoded data removed]"
          },
          "metadata": {
            "needs_background": "light"
          }
        }
      ],
      "source": [
        "# Plotting label value counts\n",
        "train_df.groupby('label').count().plot(kind='bar')\n",
        "plt.show()"
      ]
    },
    {
      "cell_type": "code",
      "execution_count": null,
      "metadata": {
        "execution": {
          "iopub.execute_input": "2022-04-24T11:24:26.142292Z",
          "iopub.status.busy": "2022-04-24T11:24:26.142039Z",
          "iopub.status.idle": "2022-04-24T11:24:26.409029Z",
          "shell.execute_reply": "2022-04-24T11:24:26.408337Z",
          "shell.execute_reply.started": "2022-04-24T11:24:26.142263Z"
        },
        "colab": {
          "base_uri": "https://localhost:8080/",
          "height": 282
        },
        "id": "xbYMINGXMABR",
        "outputId": "ca40cb05-8025-4fc3-ec65-ea92b703d009"
      },
      "outputs": [
        {
          "output_type": "execute_result",
          "data": {
            "text/plain": [
              "[<matplotlib.lines.Line2D at 0x7fee80f25e10>]"
            ]
          },
          "metadata": {},
          "execution_count": 32
        },
        {
          "output_type": "display_data",
          "data": {
            "text/plain": [
              "<Figure size 432x288 with 1 Axes>"
            ],
            "image/png": "[encoded data removed]"
          },
          "metadata": {
            "needs_background": "light"
          }
        }
      ],
      "source": [
        "# Plotting word lenghts of train text\n",
        "train_word_length = [len(x) for x in train_df['tweet']]\n",
        "plt.plot(train_word_length)"
      ]
    },
    {
      "cell_type": "code",
      "execution_count": null,
      "metadata": {
        "execution": {
          "iopub.execute_input": "2022-04-24T11:24:37.334108Z",
          "iopub.status.busy": "2022-04-24T11:24:37.333852Z",
          "iopub.status.idle": "2022-04-24T11:24:37.523470Z",
          "shell.execute_reply": "2022-04-24T11:24:37.522800Z",
          "shell.execute_reply.started": "2022-04-24T11:24:37.334079Z"
        },
        "colab": {
          "base_uri": "https://localhost:8080/",
          "height": 291
        },
        "id": "3lh7KlKtMABT",
        "outputId": "a26d74c7-d3d1-4c60-9373-0fdae434a90c"
      },
      "outputs": [
        {
          "output_type": "display_data",
          "data": {
            "text/plain": [
              "<Figure size 432x288 with 1 Axes>"
            ],
            "image/png": "[encoded data removed]"
          },
          "metadata": {
            "needs_background": "light"
          }
        }
      ],
      "source": [
        "# Plotting label value counts\n",
        "dev_df.groupby('label').count().plot(kind='bar')\n",
        "plt.show()"
      ]
    },
    {
      "cell_type": "code",
      "execution_count": null,
      "metadata": {
        "execution": {
          "iopub.execute_input": "2022-04-24T11:24:38.668667Z",
          "iopub.status.busy": "2022-04-24T11:24:38.667951Z",
          "iopub.status.idle": "2022-04-24T11:24:38.891408Z",
          "shell.execute_reply": "2022-04-24T11:24:38.890723Z",
          "shell.execute_reply.started": "2022-04-24T11:24:38.668626Z"
        },
        "colab": {
          "base_uri": "https://localhost:8080/",
          "height": 284
        },
        "id": "moMBkk8VMABU",
        "outputId": "ac9c71ff-f853-4abd-cfe0-06bb0e44f897"
      },
      "outputs": [
        {
          "output_type": "execute_result",
          "data": {
            "text/plain": [
              "[<matplotlib.lines.Line2D at 0x7fee80e15d50>]"
            ]
          },
          "metadata": {},
          "execution_count": 34
        },
        {
          "output_type": "display_data",
          "data": {
            "text/plain": [
              "<Figure size 432x288 with 1 Axes>"
            ],
            "image/png": "[encoded data removed]"
          },
          "metadata": {
            "needs_background": "light"
          }
        }
      ],
      "source": [
        "# Plotting word lenghts of train text\n",
        "dev_word_length = [len(x) for x in dev_df['tweet']]\n",
        "plt.plot(dev_word_length)"
      ]
    },
    {
      "cell_type": "code",
      "execution_count": null,
      "metadata": {
        "execution": {
          "iopub.execute_input": "2022-04-24T11:24:40.552045Z",
          "iopub.status.busy": "2022-04-24T11:24:40.551783Z",
          "iopub.status.idle": "2022-04-24T11:24:40.742063Z",
          "shell.execute_reply": "2022-04-24T11:24:40.741403Z",
          "shell.execute_reply.started": "2022-04-24T11:24:40.552015Z"
        },
        "colab": {
          "base_uri": "https://localhost:8080/",
          "height": 291
        },
        "id": "vtPxRl1cMABY",
        "outputId": "343a7ea3-f95f-4bb3-91dc-eaea66994473"
      },
      "outputs": [
        {
          "output_type": "display_data",
          "data": {
            "text/plain": [
              "<Figure size 432x288 with 1 Axes>"
            ],
            "image/png": "[encoded data removed]"
          },
          "metadata": {
            "needs_background": "light"
          }
        }
      ],
      "source": [
        "# Plotting label value counts\n",
        "test_df.groupby('label').count().plot(kind='bar')\n",
        "plt.show()"
      ]
    },
    {
      "cell_type": "code",
      "execution_count": null,
      "metadata": {
        "execution": {
          "iopub.execute_input": "2022-04-24T11:24:41.989454Z",
          "iopub.status.busy": "2022-04-24T11:24:41.989177Z",
          "iopub.status.idle": "2022-04-24T11:24:42.191078Z",
          "shell.execute_reply": "2022-04-24T11:24:42.190352Z",
          "shell.execute_reply.started": "2022-04-24T11:24:41.989423Z"
        },
        "colab": {
          "base_uri": "https://localhost:8080/",
          "height": 282
        },
        "id": "mbH4lMyJMABb",
        "outputId": "7692cd42-1ab1-4724-a795-db7a8ac1e8c4"
      },
      "outputs": [
        {
          "output_type": "execute_result",
          "data": {
            "text/plain": [
              "[<matplotlib.lines.Line2D at 0x7fee80d0c350>]"
            ]
          },
          "metadata": {},
          "execution_count": 36
        },
        {
          "output_type": "display_data",
          "data": {
            "text/plain": [
              "<Figure size 432x288 with 1 Axes>"
            ],
            "image/png": "[encoded data removed]"
          },
          "metadata": {
            "needs_background": "light"
          }
        }
      ],
      "source": [
        "# Plotting word lenghts of train text\n",
        "test_word_length = [len(x) for x in test_df['tweet']]\n",
        "plt.plot(test_word_length)"
      ]
    },
    {
      "cell_type": "markdown",
      "metadata": {
        "id": "latter-checkout"
      },
      "source": [
        "# 5. Label Encoding"
      ]
    },
    {
      "cell_type": "code",
      "execution_count": null,
      "metadata": {
        "execution": {
          "iopub.execute_input": "2022-04-24T11:25:00.482927Z",
          "iopub.status.busy": "2022-04-24T11:25:00.482459Z",
          "iopub.status.idle": "2022-04-24T11:25:00.486621Z",
          "shell.execute_reply": "2022-04-24T11:25:00.485931Z",
          "shell.execute_reply.started": "2022-04-24T11:25:00.482893Z"
        },
        "id": "B79R84lBEjq1"
      },
      "outputs": [],
      "source": [
        "# Declaring train labels\n",
        "train_labels = train_df['label']\n",
        "valid_labels = dev_df['label']\n",
        "test_labels = test_df['label']"
      ]
    },
    {
      "cell_type": "code",
      "execution_count": null,
      "metadata": {
        "execution": {
          "iopub.execute_input": "2022-04-24T11:25:02.809202Z",
          "iopub.status.busy": "2022-04-24T11:25:02.808918Z",
          "iopub.status.idle": "2022-04-24T11:25:02.840984Z",
          "shell.execute_reply": "2022-04-24T11:25:02.839589Z",
          "shell.execute_reply.started": "2022-04-24T11:25:02.809172Z"
        },
        "id": "functioning-anniversary",
        "outputId": "dbcf5dda-269f-4dad-e5bd-26945e80c1be",
        "colab": {
          "base_uri": "https://localhost:8080/"
        }
      },
      "outputs": [
        {
          "output_type": "stream",
          "name": "stdout",
          "text": [
            "['fake' 'real']\n",
            "(array([0, 1]), array([2747, 3047]))\n",
            "(array([0, 1]), array([148, 174]))\n",
            "(array([0, 1]), array([165, 140]))\n"
          ]
        }
      ],
      "source": [
        "# Converting labels to numerical features\n",
        "import numpy as np\n",
        "from sklearn.preprocessing import LabelEncoder\n",
        "\n",
        "le = LabelEncoder()\n",
        "le.fit(train_labels)\n",
        "train_labels = le.transform(train_labels)\n",
        "valid_labels = le.transform(valid_labels)\n",
        "test_labels = le.transform(test_labels)\n",
        "\n",
        "print(le.classes_)\n",
        "print(np.unique(train_labels, return_counts=True))\n",
        "print(np.unique(valid_labels, return_counts=True))\n",
        "print(np.unique(test_labels, return_counts=True))"
      ]
    },
    {
      "cell_type": "code",
      "execution_count": null,
      "metadata": {
        "execution": {
          "iopub.execute_input": "2022-04-24T11:25:12.273335Z",
          "iopub.status.busy": "2022-04-24T11:25:12.273020Z",
          "iopub.status.idle": "2022-04-24T11:25:13.131439Z",
          "shell.execute_reply": "2022-04-24T11:25:13.130704Z",
          "shell.execute_reply.started": "2022-04-24T11:25:12.273301Z"
        },
        "id": "aging-legislation"
      },
      "outputs": [],
      "source": [
        "# Changing labels to categorical features\n",
        "import numpy as np\n",
        "from tensorflow.python.keras.utils import np_utils\n",
        "from tensorflow.keras.utils import to_categorical\n",
        "import numpy as np\n",
        "\n",
        "train_labels = to_categorical(np.asarray(train_labels))\n",
        "valid_labels = to_categorical(np.asarray(valid_labels))\n",
        "test_labels = to_categorical(np.array(test_labels))"
      ]
    },
    {
      "cell_type": "code",
      "execution_count": null,
      "metadata": {
        "execution": {
          "iopub.execute_input": "2022-04-24T11:29:04.861912Z",
          "iopub.status.busy": "2022-04-24T11:29:04.861316Z",
          "iopub.status.idle": "2022-04-24T11:29:04.875317Z",
          "shell.execute_reply": "2022-04-24T11:29:04.874401Z",
          "shell.execute_reply.started": "2022-04-24T11:29:04.861877Z"
        },
        "id": "1he0XHTSMACi"
      },
      "outputs": [],
      "source": [
        "labels_count = train_df['label'].value_counts()\n",
        "labels_count = len(labels_count)"
      ]
    },
    {
      "cell_type": "markdown",
      "metadata": {
        "id": "QYsRdnbBJElq"
      },
      "source": [
        "# 6. Tokenizing Sentences and Fixing Sentence Length"
      ]
    },
    {
      "cell_type": "code",
      "execution_count": null,
      "metadata": {
        "execution": {
          "iopub.execute_input": "2022-04-24T11:25:55.687567Z",
          "iopub.status.busy": "2022-04-24T11:25:55.687274Z",
          "iopub.status.idle": "2022-04-24T11:26:21.663229Z",
          "shell.execute_reply": "2022-04-24T11:26:21.662504Z",
          "shell.execute_reply.started": "2022-04-24T11:25:55.687533Z"
        },
        "id": "xoWD8JOzJQ5f"
      },
      "outputs": [],
      "source": [
        "from tensorflow.keras.preprocessing.text import Tokenizer\n",
        "\n",
        "# Defining training parameters\n",
        "max_sequence_length = 170   \n",
        "max_words = 30000   \n",
        "\n",
        "# Tokenizing tweets/sentences wrt num_words\n",
        "tokenizer = Tokenizer(num_words = max_words)  # Selects most frequent words \n",
        "tokenizer.fit_on_texts(train_df.tweet)      # Develops internal vocab based on training text\n",
        "train_sequences = tokenizer.texts_to_sequences(train_df.tweet)  # converts text to sequence\n",
        "\n",
        "valid_sequences = tokenizer.texts_to_sequences(dev_df.tweet)\n",
        "test_sequences = tokenizer.texts_to_sequences(test_df.tweet)"
      ]
    },
    {
      "cell_type": "code",
      "execution_count": null,
      "metadata": {
        "execution": {
          "iopub.execute_input": "2022-04-24T11:26:24.444771Z",
          "iopub.status.busy": "2022-04-24T11:26:24.444206Z",
          "iopub.status.idle": "2022-04-24T11:26:25.210047Z",
          "shell.execute_reply": "2022-04-24T11:26:25.209324Z",
          "shell.execute_reply.started": "2022-04-24T11:26:24.444732Z"
        },
        "id": "djBvMk-BJQyg",
        "outputId": "afe102a2-01e4-4f61-f4f0-e4d93f7859a2",
        "colab": {
          "base_uri": "https://localhost:8080/"
        }
      },
      "outputs": [
        {
          "output_type": "execute_result",
          "data": {
            "text/plain": [
              "((5794, 170), (322, 170), (305, 170))"
            ]
          },
          "metadata": {},
          "execution_count": 44
        }
      ],
      "source": [
        "# Fixing the sequence length \n",
        "from tensorflow.keras.preprocessing.sequence import pad_sequences\n",
        "train_data = pad_sequences(train_sequences, maxlen = max_sequence_length)\n",
        "valid_data = pad_sequences(valid_sequences, maxlen = max_sequence_length)\n",
        "test_data = pad_sequences(test_sequences, maxlen = max_sequence_length)\n",
        "train_data.shape, valid_data.shape, test_data.shape"
      ]
    },
    {
      "cell_type": "markdown",
      "metadata": {
        "id": "honey-orbit"
      },
      "source": [
        "# 7. Bi-LSTM Model"
      ]
    },
    {
      "cell_type": "markdown",
      "metadata": {
        "id": "wE-GkxBSUVSc"
      },
      "source": [
        "## # 7.1 Declaring Model"
      ]
    },
    {
      "cell_type": "code",
      "execution_count": null,
      "metadata": {
        "execution": {
          "iopub.execute_input": "2022-04-24T11:26:39.558845Z",
          "iopub.status.busy": "2022-04-24T11:26:39.558295Z",
          "iopub.status.idle": "2022-04-24T11:26:39.562881Z",
          "shell.execute_reply": "2022-04-24T11:26:39.562029Z",
          "shell.execute_reply.started": "2022-04-24T11:26:39.558808Z"
        },
        "id": "IfzH9ISoBDji"
      },
      "outputs": [],
      "source": [
        "# Model Parameters\n",
        "embedding_dim = 100"
      ]
    },
    {
      "cell_type": "code",
      "execution_count": null,
      "metadata": {
        "execution": {
          "iopub.execute_input": "2022-04-24T11:26:49.938467Z",
          "iopub.status.busy": "2022-04-24T11:26:49.938196Z",
          "iopub.status.idle": "2022-04-24T11:26:49.949645Z",
          "shell.execute_reply": "2022-04-24T11:26:49.948787Z",
          "shell.execute_reply.started": "2022-04-24T11:26:49.938435Z"
        },
        "id": "compact-functionality"
      },
      "outputs": [],
      "source": [
        "# Importing Libraries\n",
        "\n",
        "import tensorflow as tf\n",
        "import sys, os, re, csv, codecs, numpy as np, pandas as pd\n",
        "from tensorflow.keras.layers import Dense, Input, LSTM, Embedding, Dropout, Activation\n",
        "from tensorflow.keras.layers import Bidirectional, GlobalMaxPool1D, Conv1D, SimpleRNN\n",
        "from tensorflow.keras.models import Model, load_model\n",
        "from tensorflow.keras.models import Sequential\n",
        "from tensorflow.keras import initializers, regularizers, constraints, optimizers, layers\n",
        "from tensorflow.keras.layers import Dense, Input, Input, Flatten, Dropout, BatchNormalization\n",
        "from tensorflow.keras.layers import Conv1D, MaxPooling1D, Embedding "
      ]
    },
    {
      "cell_type": "code",
      "execution_count": null,
      "metadata": {
        "execution": {
          "iopub.execute_input": "2022-04-24T12:36:57.568882Z",
          "iopub.status.busy": "2022-04-24T12:36:57.568618Z",
          "iopub.status.idle": "2022-04-24T12:36:57.968868Z",
          "shell.execute_reply": "2022-04-24T12:36:57.968156Z",
          "shell.execute_reply.started": "2022-04-24T12:36:57.568847Z"
        },
        "id": "regular-neighborhood",
        "outputId": "e5fdfdf2-757a-40d7-b4a4-ca589079acf4",
        "colab": {
          "base_uri": "https://localhost:8080/"
        }
      },
      "outputs": [
        {
          "output_type": "stream",
          "name": "stdout",
          "text": [
            "Model: \"sequential\"\n",
            "_________________________________________________________________\n",
            " Layer (type)                Output Shape              Param #   \n",
            "=================================================================\n",
            " embedding (Embedding)       (None, 170, 100)          3000000   \n",
            "                                                                 \n",
            " bidirectional (Bidirectiona  (None, 170, 256)         234496    \n",
            " l)                                                              \n",
            "                                                                 \n",
            " global_max_pooling1d (Globa  (None, 256)              0         \n",
            " lMaxPooling1D)                                                  \n",
            "                                                                 \n",
            " dense (Dense)               (None, 2)                 514       \n",
            "                                                                 \n",
            "=================================================================\n",
            "Total params: 3,235,010\n",
            "Trainable params: 3,235,010\n",
            "Non-trainable params: 0\n",
            "_________________________________________________________________\n"
          ]
        }
      ],
      "source": [
        "# Model Training\n",
        "model = Sequential()\n",
        "model.add(Embedding(max_words, \n",
        "                   embedding_dim,\n",
        "                   input_length = max_sequence_length))\n",
        "\n",
        "# Bidirectional LSTM \n",
        "model.add(Bidirectional(LSTM(128, return_sequences=True, dropout=0.4, recurrent_dropout=0)))   \n",
        "\n",
        "model.add(GlobalMaxPool1D())\n",
        "\n",
        "model.add(Dense(labels_count,activation='softmax'))  \n",
        "\n",
        "model.summary()"
      ]
    },
    {
      "cell_type": "markdown",
      "metadata": {
        "id": "XzO3QaesUM13"
      },
      "source": [
        "## # 7.2 Passing Data Through Network"
      ]
    },
    {
      "cell_type": "code",
      "execution_count": null,
      "metadata": {
        "execution": {
          "iopub.execute_input": "2022-04-24T12:37:00.263773Z",
          "iopub.status.busy": "2022-04-24T12:37:00.263508Z",
          "iopub.status.idle": "2022-04-24T12:37:00.273366Z",
          "shell.execute_reply": "2022-04-24T12:37:00.272674Z",
          "shell.execute_reply.started": "2022-04-24T12:37:00.263743Z"
        },
        "id": "listed-christianity"
      },
      "outputs": [],
      "source": [
        "model.compile(loss = 'categorical_crossentropy', optimizer='Adam', metrics = ['accuracy'])"
      ]
    },
    {
      "cell_type": "code",
      "execution_count": null,
      "metadata": {
        "execution": {
          "iopub.execute_input": "2022-04-24T12:37:05.304361Z",
          "iopub.status.busy": "2022-04-24T12:37:05.303819Z",
          "iopub.status.idle": "2022-04-24T12:37:05.308941Z",
          "shell.execute_reply": "2022-04-24T12:37:05.308042Z",
          "shell.execute_reply.started": "2022-04-24T12:37:05.304324Z"
        },
        "id": "nn6dhdqPMAC9"
      },
      "outputs": [],
      "source": [
        "checkpoint_filepath = '/model'\n",
        "model_checkpoint_callback = tf.keras.callbacks.ModelCheckpoint(\n",
        "    filepath=checkpoint_filepath,\n",
        "    save_weights_only=False,\n",
        "    monitor='val_loss',\n",
        "    mode='auto',\n",
        "    save_best_only=True)"
      ]
    },
    {
      "cell_type": "code",
      "execution_count": null,
      "metadata": {
        "execution": {
          "iopub.execute_input": "2022-04-24T12:37:07.416189Z",
          "iopub.status.busy": "2022-04-24T12:37:07.415928Z",
          "iopub.status.idle": "2022-04-24T12:48:21.788542Z",
          "shell.execute_reply": "2022-04-24T12:48:21.787784Z",
          "shell.execute_reply.started": "2022-04-24T12:37:07.416159Z"
        },
        "id": "genuine-millennium",
        "outputId": "87fc4860-c524-4842-c913-b22c32995226",
        "colab": {
          "base_uri": "https://localhost:8080/"
        }
      },
      "outputs": [
        {
          "output_type": "stream",
          "name": "stdout",
          "text": [
            "Epoch 1/50\n",
            "121/121 [==============================] - ETA: 0s - loss: 0.3926 - accuracy: 0.8077"
          ]
        },
        {
          "output_type": "stream",
          "name": "stderr",
          "text": [
            "WARNING:absl:Found untraced functions such as lstm_cell_1_layer_call_fn, lstm_cell_1_layer_call_and_return_conditional_losses, lstm_cell_2_layer_call_fn, lstm_cell_2_layer_call_and_return_conditional_losses while saving (showing 4 of 4). These functions will not be directly callable after loading.\n",
            "WARNING:absl:<keras.layers.recurrent.LSTMCell object at 0x7fee7e24dbd0> has the same name 'LSTMCell' as a built-in Keras object. Consider renaming <class 'keras.layers.recurrent.LSTMCell'> to avoid naming conflicts when loading with `tf.keras.models.load_model`. If renaming is not possible, pass the object in the `custom_objects` parameter of the load function.\n",
            "WARNING:absl:<keras.layers.recurrent.LSTMCell object at 0x7fee80894250> has the same name 'LSTMCell' as a built-in Keras object. Consider renaming <class 'keras.layers.recurrent.LSTMCell'> to avoid naming conflicts when loading with `tf.keras.models.load_model`. If renaming is not possible, pass the object in the `custom_objects` parameter of the load function.\n"
          ]
        },
        {
          "output_type": "stream",
          "name": "stdout",
          "text": [
            "\b\b\b\b\b\b\b\b\b\b\b\b\b\b\b\b\b\b\b\b\b\b\b\b\b\b\b\b\b\b\b\b\b\b\b\b\b\b\b\b\b\b\b\b\b\b\b\b\b\b\b\b\b\b\b\b\b\b\b\b\b\b\b\b\b\b\b\b\b\b\b\b\b\b\b\b\b\b\b\b\b\b\b\b\r121/121 [==============================] - 23s 122ms/step - loss: 0.3926 - accuracy: 0.8077 - val_loss: 0.2552 - val_accuracy: 0.8758\n",
            "Epoch 2/50\n",
            "120/121 [============================>.] - ETA: 0s - loss: 0.1388 - accuracy: 0.9538"
          ]
        },
        {
          "output_type": "stream",
          "name": "stderr",
          "text": [
            "WARNING:absl:Found untraced functions such as lstm_cell_1_layer_call_fn, lstm_cell_1_layer_call_and_return_conditional_losses, lstm_cell_2_layer_call_fn, lstm_cell_2_layer_call_and_return_conditional_losses while saving (showing 4 of 4). These functions will not be directly callable after loading.\n",
            "WARNING:absl:<keras.layers.recurrent.LSTMCell object at 0x7fee7e24dbd0> has the same name 'LSTMCell' as a built-in Keras object. Consider renaming <class 'keras.layers.recurrent.LSTMCell'> to avoid naming conflicts when loading with `tf.keras.models.load_model`. If renaming is not possible, pass the object in the `custom_objects` parameter of the load function.\n",
            "WARNING:absl:<keras.layers.recurrent.LSTMCell object at 0x7fee80894250> has the same name 'LSTMCell' as a built-in Keras object. Consider renaming <class 'keras.layers.recurrent.LSTMCell'> to avoid naming conflicts when loading with `tf.keras.models.load_model`. If renaming is not possible, pass the object in the `custom_objects` parameter of the load function.\n"
          ]
        },
        {
          "output_type": "stream",
          "name": "stdout",
          "text": [
            "\b\b\b\b\b\b\b\b\b\b\b\b\b\b\b\b\b\b\b\b\b\b\b\b\b\b\b\b\b\b\b\b\b\b\b\b\b\b\b\b\b\b\b\b\b\b\b\b\b\b\b\b\b\b\b\b\b\b\b\b\b\b\b\b\b\b\b\b\b\b\b\b\b\b\b\b\b\b\b\b\b\b\b\b\r121/121 [==============================] - 14s 116ms/step - loss: 0.1385 - accuracy: 0.9539 - val_loss: 0.1895 - val_accuracy: 0.9255\n",
            "Epoch 3/50\n",
            "120/121 [============================>.] - ETA: 0s - loss: 0.0398 - accuracy: 0.9877"
          ]
        },
        {
          "output_type": "stream",
          "name": "stderr",
          "text": [
            "WARNING:absl:Found untraced functions such as lstm_cell_1_layer_call_fn, lstm_cell_1_layer_call_and_return_conditional_losses, lstm_cell_2_layer_call_fn, lstm_cell_2_layer_call_and_return_conditional_losses while saving (showing 4 of 4). These functions will not be directly callable after loading.\n",
            "WARNING:absl:<keras.layers.recurrent.LSTMCell object at 0x7fee7e24dbd0> has the same name 'LSTMCell' as a built-in Keras object. Consider renaming <class 'keras.layers.recurrent.LSTMCell'> to avoid naming conflicts when loading with `tf.keras.models.load_model`. If renaming is not possible, pass the object in the `custom_objects` parameter of the load function.\n",
            "WARNING:absl:<keras.layers.recurrent.LSTMCell object at 0x7fee80894250> has the same name 'LSTMCell' as a built-in Keras object. Consider renaming <class 'keras.layers.recurrent.LSTMCell'> to avoid naming conflicts when loading with `tf.keras.models.load_model`. If renaming is not possible, pass the object in the `custom_objects` parameter of the load function.\n"
          ]
        },
        {
          "output_type": "stream",
          "name": "stdout",
          "text": [
            "\b\b\b\b\b\b\b\b\b\b\b\b\b\b\b\b\b\b\b\b\b\b\b\b\b\b\b\b\b\b\b\b\b\b\b\b\b\b\b\b\b\b\b\b\b\b\b\b\b\b\b\b\b\b\b\b\b\b\b\b\b\b\b\b\b\b\b\b\b\b\b\b\b\b\b\b\b\b\b\b\b\b\b\b\r121/121 [==============================] - 16s 130ms/step - loss: 0.0397 - accuracy: 0.9877 - val_loss: 0.1671 - val_accuracy: 0.9441\n",
            "Epoch 4/50\n",
            "121/121 [==============================] - 3s 23ms/step - loss: 0.0150 - accuracy: 0.9965 - val_loss: 0.2084 - val_accuracy: 0.9286\n",
            "Epoch 5/50\n",
            "121/121 [==============================] - 3s 23ms/step - loss: 0.0053 - accuracy: 0.9984 - val_loss: 0.2272 - val_accuracy: 0.9255\n",
            "Epoch 6/50\n",
            "121/121 [==============================] - 3s 22ms/step - loss: 0.0018 - accuracy: 0.9998 - val_loss: 0.2186 - val_accuracy: 0.9317\n",
            "Epoch 7/50\n",
            "121/121 [==============================] - 3s 23ms/step - loss: 0.0038 - accuracy: 0.9991 - val_loss: 0.2389 - val_accuracy: 0.9348\n",
            "Epoch 8/50\n",
            "121/121 [==============================] - 3s 23ms/step - loss: 9.5445e-04 - accuracy: 1.0000 - val_loss: 0.2071 - val_accuracy: 0.9441\n",
            "Epoch 9/50\n",
            "121/121 [==============================] - 3s 23ms/step - loss: 3.6514e-04 - accuracy: 1.0000 - val_loss: 0.2081 - val_accuracy: 0.9410\n",
            "Epoch 10/50\n",
            "121/121 [==============================] - 3s 23ms/step - loss: 0.0055 - accuracy: 0.9983 - val_loss: 0.3098 - val_accuracy: 0.9099\n",
            "Epoch 11/50\n",
            "119/121 [============================>.] - ETA: 0s - loss: 0.0186 - accuracy: 0.9933"
          ]
        },
        {
          "output_type": "stream",
          "name": "stderr",
          "text": [
            "WARNING:absl:Found untraced functions such as lstm_cell_1_layer_call_fn, lstm_cell_1_layer_call_and_return_conditional_losses, lstm_cell_2_layer_call_fn, lstm_cell_2_layer_call_and_return_conditional_losses while saving (showing 4 of 4). These functions will not be directly callable after loading.\n",
            "WARNING:absl:<keras.layers.recurrent.LSTMCell object at 0x7fee7e24dbd0> has the same name 'LSTMCell' as a built-in Keras object. Consider renaming <class 'keras.layers.recurrent.LSTMCell'> to avoid naming conflicts when loading with `tf.keras.models.load_model`. If renaming is not possible, pass the object in the `custom_objects` parameter of the load function.\n",
            "WARNING:absl:<keras.layers.recurrent.LSTMCell object at 0x7fee80894250> has the same name 'LSTMCell' as a built-in Keras object. Consider renaming <class 'keras.layers.recurrent.LSTMCell'> to avoid naming conflicts when loading with `tf.keras.models.load_model`. If renaming is not possible, pass the object in the `custom_objects` parameter of the load function.\n"
          ]
        },
        {
          "output_type": "stream",
          "name": "stdout",
          "text": [
            "\b\b\b\b\b\b\b\b\b\b\b\b\b\b\b\b\b\b\b\b\b\b\b\b\b\b\b\b\b\b\b\b\b\b\b\b\b\b\b\b\b\b\b\b\b\b\b\b\b\b\b\b\b\b\b\b\b\b\b\b\b\b\b\b\b\b\b\b\b\b\b\b\b\b\b\b\b\b\b\b\b\b\b\b\r121/121 [==============================] - 14s 113ms/step - loss: 0.0184 - accuracy: 0.9934 - val_loss: 0.1664 - val_accuracy: 0.9441\n",
            "Epoch 12/50\n",
            "121/121 [==============================] - 3s 23ms/step - loss: 0.0180 - accuracy: 0.9950 - val_loss: 0.2241 - val_accuracy: 0.9224\n",
            "Epoch 13/50\n",
            "121/121 [==============================] - ETA: 0s - loss: 0.0087 - accuracy: 0.9978"
          ]
        },
        {
          "output_type": "stream",
          "name": "stderr",
          "text": [
            "WARNING:absl:Found untraced functions such as lstm_cell_1_layer_call_fn, lstm_cell_1_layer_call_and_return_conditional_losses, lstm_cell_2_layer_call_fn, lstm_cell_2_layer_call_and_return_conditional_losses while saving (showing 4 of 4). These functions will not be directly callable after loading.\n",
            "WARNING:absl:<keras.layers.recurrent.LSTMCell object at 0x7fee7e24dbd0> has the same name 'LSTMCell' as a built-in Keras object. Consider renaming <class 'keras.layers.recurrent.LSTMCell'> to avoid naming conflicts when loading with `tf.keras.models.load_model`. If renaming is not possible, pass the object in the `custom_objects` parameter of the load function.\n",
            "WARNING:absl:<keras.layers.recurrent.LSTMCell object at 0x7fee80894250> has the same name 'LSTMCell' as a built-in Keras object. Consider renaming <class 'keras.layers.recurrent.LSTMCell'> to avoid naming conflicts when loading with `tf.keras.models.load_model`. If renaming is not possible, pass the object in the `custom_objects` parameter of the load function.\n"
          ]
        },
        {
          "output_type": "stream",
          "name": "stdout",
          "text": [
            "\b\b\b\b\b\b\b\b\b\b\b\b\b\b\b\b\b\b\b\b\b\b\b\b\b\b\b\b\b\b\b\b\b\b\b\b\b\b\b\b\b\b\b\b\b\b\b\b\b\b\b\b\b\b\b\b\b\b\b\b\b\b\b\b\b\b\b\b\b\b\b\b\b\b\b\b\b\b\b\b\b\b\b\b\r121/121 [==============================] - 14s 115ms/step - loss: 0.0087 - accuracy: 0.9978 - val_loss: 0.1584 - val_accuracy: 0.9193\n",
            "Epoch 14/50\n",
            "121/121 [==============================] - 3s 23ms/step - loss: 0.0045 - accuracy: 0.9988 - val_loss: 0.1705 - val_accuracy: 0.9286\n",
            "Epoch 15/50\n",
            "121/121 [==============================] - 3s 22ms/step - loss: 0.0039 - accuracy: 0.9988 - val_loss: 0.2244 - val_accuracy: 0.9379\n",
            "Epoch 16/50\n",
            "121/121 [==============================] - 3s 23ms/step - loss: 4.2444e-04 - accuracy: 1.0000 - val_loss: 0.2065 - val_accuracy: 0.9379\n",
            "Epoch 17/50\n",
            "121/121 [==============================] - 3s 23ms/step - loss: 1.9476e-04 - accuracy: 1.0000 - val_loss: 0.2092 - val_accuracy: 0.9379\n",
            "Epoch 18/50\n",
            "121/121 [==============================] - 3s 23ms/step - loss: 1.3126e-04 - accuracy: 1.0000 - val_loss: 0.2557 - val_accuracy: 0.9348\n",
            "Epoch 19/50\n",
            "121/121 [==============================] - 3s 23ms/step - loss: 1.0267e-04 - accuracy: 1.0000 - val_loss: 0.2578 - val_accuracy: 0.9348\n",
            "Epoch 20/50\n",
            "121/121 [==============================] - 3s 22ms/step - loss: 6.9207e-05 - accuracy: 1.0000 - val_loss: 0.2576 - val_accuracy: 0.9410\n",
            "Epoch 21/50\n",
            "121/121 [==============================] - 3s 22ms/step - loss: 5.7399e-05 - accuracy: 1.0000 - val_loss: 0.2610 - val_accuracy: 0.9410\n",
            "Epoch 22/50\n",
            "121/121 [==============================] - 3s 23ms/step - loss: 6.5498e-05 - accuracy: 1.0000 - val_loss: 0.2723 - val_accuracy: 0.9348\n",
            "Epoch 23/50\n",
            "121/121 [==============================] - 3s 23ms/step - loss: 4.8091e-05 - accuracy: 1.0000 - val_loss: 0.2709 - val_accuracy: 0.9379\n",
            "Epoch 24/50\n",
            "121/121 [==============================] - 3s 23ms/step - loss: 4.1150e-05 - accuracy: 1.0000 - val_loss: 0.2726 - val_accuracy: 0.9348\n",
            "Epoch 25/50\n",
            "121/121 [==============================] - 3s 22ms/step - loss: 4.3334e-05 - accuracy: 1.0000 - val_loss: 0.2755 - val_accuracy: 0.9348\n",
            "Epoch 26/50\n",
            "121/121 [==============================] - 3s 23ms/step - loss: 4.0547e-05 - accuracy: 1.0000 - val_loss: 0.3008 - val_accuracy: 0.9255\n",
            "Epoch 27/50\n",
            "121/121 [==============================] - 3s 23ms/step - loss: 2.8076e-05 - accuracy: 1.0000 - val_loss: 0.2859 - val_accuracy: 0.9286\n",
            "Epoch 28/50\n",
            "121/121 [==============================] - 3s 22ms/step - loss: 2.2989e-05 - accuracy: 1.0000 - val_loss: 0.2799 - val_accuracy: 0.9379\n",
            "Epoch 29/50\n",
            "121/121 [==============================] - 3s 22ms/step - loss: 2.4124e-05 - accuracy: 1.0000 - val_loss: 0.2828 - val_accuracy: 0.9379\n",
            "Epoch 30/50\n",
            "121/121 [==============================] - 3s 23ms/step - loss: 2.5941e-05 - accuracy: 1.0000 - val_loss: 0.3109 - val_accuracy: 0.9224\n",
            "Epoch 31/50\n",
            "121/121 [==============================] - 3s 23ms/step - loss: 1.8780e-05 - accuracy: 1.0000 - val_loss: 0.3136 - val_accuracy: 0.9224\n",
            "Epoch 32/50\n",
            "121/121 [==============================] - 3s 23ms/step - loss: 1.6110e-05 - accuracy: 1.0000 - val_loss: 0.3217 - val_accuracy: 0.9224\n",
            "Epoch 33/50\n",
            "121/121 [==============================] - 3s 23ms/step - loss: 1.2492e-05 - accuracy: 1.0000 - val_loss: 0.3309 - val_accuracy: 0.9224\n",
            "Epoch 34/50\n",
            "121/121 [==============================] - 3s 22ms/step - loss: 1.2870e-05 - accuracy: 1.0000 - val_loss: 0.3424 - val_accuracy: 0.9224\n",
            "Epoch 35/50\n",
            "121/121 [==============================] - 3s 23ms/step - loss: 1.0637e-05 - accuracy: 1.0000 - val_loss: 0.3482 - val_accuracy: 0.9224\n",
            "Epoch 36/50\n",
            "121/121 [==============================] - 3s 22ms/step - loss: 1.0183e-05 - accuracy: 1.0000 - val_loss: 0.3488 - val_accuracy: 0.9224\n",
            "Epoch 37/50\n",
            "121/121 [==============================] - 3s 23ms/step - loss: 1.1678e-05 - accuracy: 1.0000 - val_loss: 0.3414 - val_accuracy: 0.9255\n",
            "Epoch 38/50\n",
            "121/121 [==============================] - 3s 23ms/step - loss: 7.5831e-06 - accuracy: 1.0000 - val_loss: 0.3467 - val_accuracy: 0.9255\n",
            "Epoch 39/50\n",
            "121/121 [==============================] - 3s 22ms/step - loss: 8.8896e-06 - accuracy: 1.0000 - val_loss: 0.3519 - val_accuracy: 0.9224\n",
            "Epoch 40/50\n",
            "121/121 [==============================] - 3s 23ms/step - loss: 7.1264e-06 - accuracy: 1.0000 - val_loss: 0.3528 - val_accuracy: 0.9255\n",
            "Epoch 41/50\n",
            "121/121 [==============================] - 3s 22ms/step - loss: 6.4470e-06 - accuracy: 1.0000 - val_loss: 0.3522 - val_accuracy: 0.9224\n",
            "Epoch 42/50\n",
            "121/121 [==============================] - 3s 22ms/step - loss: 8.7442e-06 - accuracy: 1.0000 - val_loss: 0.3372 - val_accuracy: 0.9255\n",
            "Epoch 43/50\n",
            "121/121 [==============================] - 3s 22ms/step - loss: 7.6617e-06 - accuracy: 1.0000 - val_loss: 0.3548 - val_accuracy: 0.9224\n",
            "Epoch 44/50\n",
            "121/121 [==============================] - 3s 22ms/step - loss: 5.6166e-06 - accuracy: 1.0000 - val_loss: 0.3599 - val_accuracy: 0.9224\n",
            "Epoch 45/50\n",
            "121/121 [==============================] - 3s 22ms/step - loss: 5.3053e-06 - accuracy: 1.0000 - val_loss: 0.3550 - val_accuracy: 0.9224\n",
            "Epoch 46/50\n",
            "121/121 [==============================] - 3s 23ms/step - loss: 4.3503e-06 - accuracy: 1.0000 - val_loss: 0.3646 - val_accuracy: 0.9224\n",
            "Epoch 47/50\n",
            "121/121 [==============================] - 3s 22ms/step - loss: 6.0225e-06 - accuracy: 1.0000 - val_loss: 0.3742 - val_accuracy: 0.9255\n",
            "Epoch 48/50\n",
            "121/121 [==============================] - 3s 23ms/step - loss: 3.9539e-06 - accuracy: 1.0000 - val_loss: 0.3756 - val_accuracy: 0.9224\n",
            "Epoch 49/50\n",
            "121/121 [==============================] - 3s 23ms/step - loss: 3.6365e-06 - accuracy: 1.0000 - val_loss: 0.3766 - val_accuracy: 0.9224\n",
            "Epoch 50/50\n",
            "121/121 [==============================] - 3s 23ms/step - loss: 3.5217e-06 - accuracy: 1.0000 - val_loss: 0.3736 - val_accuracy: 0.9286\n"
          ]
        }
      ],
      "source": [
        "# # declaring weights of product categories\n",
        "# class_weight = {0: 4,          \n",
        "#                 1: 5,    \n",
        "#                 2: 3,      \n",
        "#                 3: 3,     \n",
        "#                 4: 4}      \n",
        "\n",
        "# training and validating model \n",
        "# history = model.fit(train_data, train_labels, batch_size=48, epochs= 20, class_weight = class_weight, validation_data=(test_data, test_labels)) # best 89(now) or 48 or 60 epochs # default epochs = 23 # batch_size changed to 1 (takes 2.30hrs) from 16\n",
        "# best 89(now) or 48 or 60 epochs # default epochs = 23 # batch_size changed to 1 (takes 2.30hrs) from 16\n",
        "history = model.fit(train_data, train_labels, batch_size=48, epochs= 50, validation_data=(valid_data, valid_labels), callbacks=[model_checkpoint_callback])"
      ]
    },
    {
      "cell_type": "code",
      "execution_count": null,
      "metadata": {
        "execution": {
          "iopub.execute_input": "2022-04-24T12:21:01.289051Z",
          "iopub.status.busy": "2022-04-24T12:21:01.288765Z",
          "iopub.status.idle": "2022-04-24T12:21:12.104988Z",
          "shell.execute_reply": "2022-04-24T12:21:12.104234Z",
          "shell.execute_reply.started": "2022-04-24T12:21:01.289022Z"
        },
        "id": "0gIuqcPVMADA"
      },
      "outputs": [],
      "source": [
        "# model.save('model')"
      ]
    },
    {
      "cell_type": "code",
      "execution_count": null,
      "metadata": {
        "execution": {
          "iopub.execute_input": "2022-04-24T12:58:26.469170Z",
          "iopub.status.busy": "2022-04-24T12:58:26.468866Z",
          "iopub.status.idle": "2022-04-24T12:58:27.443899Z",
          "shell.execute_reply": "2022-04-24T12:58:27.442965Z",
          "shell.execute_reply.started": "2022-04-24T12:58:26.469137Z"
        },
        "id": "yVpHHrLjMADJ"
      },
      "outputs": [],
      "source": [
        "import pickle\n",
        "# saving\n",
        "with open('tokenizer.pickle', 'wb') as handle:\n",
        "    pickle.dump(tokenizer, handle, protocol=pickle.HIGHEST_PROTOCOL)"
      ]
    },
    {
      "cell_type": "code",
      "execution_count": null,
      "metadata": {
        "execution": {
          "iopub.execute_input": "2022-04-24T12:58:28.453857Z",
          "iopub.status.busy": "2022-04-24T12:58:28.453340Z",
          "iopub.status.idle": "2022-04-24T12:58:30.248343Z",
          "shell.execute_reply": "2022-04-24T12:58:30.247549Z",
          "shell.execute_reply.started": "2022-04-24T12:58:28.453816Z"
        },
        "id": "heard-mentor",
        "colab": {
          "base_uri": "https://localhost:8080/"
        },
        "outputId": "4e136973-b8d0-47b2-b49a-38afcc7d743d"
      },
      "outputs": [
        {
          "output_type": "execute_result",
          "data": {
            "text/plain": [
              "array([[9.99986768e-01, 1.32591149e-05],\n",
              "       [2.56747683e-07, 9.99999762e-01],\n",
              "       [2.04922435e-06, 9.99997973e-01],\n",
              "       [9.99999881e-01, 7.86680658e-08],\n",
              "       [9.99999881e-01, 1.46791010e-07],\n",
              "       [1.00000000e+00, 1.22643176e-08],\n",
              "       [8.76914442e-07, 9.99999166e-01],\n",
              "       [6.91361220e-06, 9.99993086e-01],\n",
              "       [9.99999523e-01, 4.26923606e-07],\n",
              "       [9.99999523e-01, 4.72748837e-07],\n",
              "       [6.36636116e-07, 9.99999404e-01],\n",
              "       [2.15218779e-06, 9.99997854e-01],\n",
              "       [9.99991655e-01, 8.40037137e-06],\n",
              "       [9.99999046e-01, 9.66001380e-07],\n",
              "       [7.50932259e-07, 9.99999285e-01],\n",
              "       [9.99994397e-01, 5.64805759e-06],\n",
              "       [3.79393754e-07, 9.99999642e-01],\n",
              "       [9.99950886e-01, 4.91673418e-05],\n",
              "       [9.99876261e-01, 1.23687176e-04],\n",
              "       [8.57849102e-07, 9.99999166e-01],\n",
              "       [3.90013582e-07, 9.99999642e-01],\n",
              "       [2.61545283e-05, 9.99973893e-01],\n",
              "       [1.00000000e+00, 4.08350402e-08],\n",
              "       [1.61190394e-06, 9.99998331e-01],\n",
              "       [9.99999762e-01, 2.06726781e-07],\n",
              "       [4.77878757e-07, 9.99999523e-01],\n",
              "       [1.35903801e-05, 9.99986410e-01],\n",
              "       [1.00000000e+00, 2.76096142e-08],\n",
              "       [9.99999762e-01, 2.08967606e-07],\n",
              "       [9.99999642e-01, 3.32369240e-07],\n",
              "       [3.42983662e-06, 9.99996543e-01],\n",
              "       [7.72148414e-05, 9.99922752e-01],\n",
              "       [3.75117111e-06, 9.99996305e-01],\n",
              "       [8.20308060e-07, 9.99999166e-01],\n",
              "       [4.41988760e-07, 9.99999523e-01],\n",
              "       [9.99999881e-01, 1.39577452e-07],\n",
              "       [9.99996543e-01, 3.42412045e-06],\n",
              "       [9.99855995e-01, 1.44014397e-04],\n",
              "       [9.99989033e-01, 1.09403036e-05],\n",
              "       [1.00000000e+00, 2.59105271e-08],\n",
              "       [1.92682796e-06, 9.99998093e-01],\n",
              "       [7.45290947e-07, 9.99999285e-01],\n",
              "       [1.00000000e+00, 1.16590257e-08],\n",
              "       [9.88868594e-01, 1.11313835e-02],\n",
              "       [9.99999762e-01, 2.31910377e-07],\n",
              "       [1.00000000e+00, 2.00357810e-08],\n",
              "       [9.99999762e-01, 2.92208711e-07],\n",
              "       [2.41888018e-04, 9.99758065e-01],\n",
              "       [5.57422652e-07, 9.99999404e-01],\n",
              "       [2.00637919e-06, 9.99997973e-01],\n",
              "       [1.30104502e-06, 9.99998689e-01],\n",
              "       [9.99984503e-01, 1.54424924e-05],\n",
              "       [9.99974012e-01, 2.60056459e-05],\n",
              "       [9.99986768e-01, 1.32060622e-05],\n",
              "       [9.98775303e-01, 1.22472493e-03],\n",
              "       [9.49462674e-07, 9.99999046e-01],\n",
              "       [9.99999762e-01, 2.30552430e-07],\n",
              "       [9.99999881e-01, 7.62961534e-08],\n",
              "       [9.99999881e-01, 1.09732206e-07],\n",
              "       [1.50612959e-06, 9.99998450e-01],\n",
              "       [1.11526533e-05, 9.99988794e-01],\n",
              "       [9.99994159e-01, 5.80117830e-06],\n",
              "       [6.84837744e-07, 9.99999285e-01],\n",
              "       [1.00000000e+00, 1.21794175e-08],\n",
              "       [9.34621130e-06, 9.99990702e-01],\n",
              "       [4.00918083e-07, 9.99999642e-01],\n",
              "       [5.98689780e-07, 9.99999404e-01],\n",
              "       [1.40201291e-06, 9.99998569e-01],\n",
              "       [9.99994516e-01, 5.48625985e-06],\n",
              "       [1.00000000e+00, 4.96282055e-08],\n",
              "       [9.99998212e-01, 1.84561929e-06],\n",
              "       [9.99999881e-01, 1.09378860e-07],\n",
              "       [9.99748409e-01, 2.51534744e-04],\n",
              "       [6.33843968e-07, 9.99999404e-01],\n",
              "       [9.99999166e-01, 8.68110988e-07],\n",
              "       [7.51094831e-07, 9.99999285e-01],\n",
              "       [2.24682844e-05, 9.99977589e-01],\n",
              "       [7.32174101e-07, 9.99999285e-01],\n",
              "       [9.99972701e-01, 2.72497509e-05],\n",
              "       [6.98679344e-07, 9.99999285e-01],\n",
              "       [7.37015449e-04, 9.99262989e-01],\n",
              "       [9.99999523e-01, 5.11308713e-07],\n",
              "       [9.99999642e-01, 3.10194537e-07],\n",
              "       [4.03553798e-07, 9.99999642e-01],\n",
              "       [3.72125157e-07, 9.99999642e-01],\n",
              "       [9.99998212e-01, 1.73273929e-06],\n",
              "       [9.99999881e-01, 1.01853374e-07],\n",
              "       [5.41623831e-01, 4.58376139e-01],\n",
              "       [9.99999642e-01, 3.59077433e-07],\n",
              "       [9.99935508e-01, 6.44806860e-05],\n",
              "       [9.99789655e-01, 2.10360100e-04],\n",
              "       [6.24359353e-03, 9.93756413e-01],\n",
              "       [9.99991059e-01, 8.88923205e-06],\n",
              "       [6.44816680e-07, 9.99999404e-01],\n",
              "       [9.99580085e-01, 4.19925025e-04],\n",
              "       [4.72882311e-06, 9.99995232e-01],\n",
              "       [3.61849544e-07, 9.99999642e-01],\n",
              "       [9.99998689e-01, 1.29049556e-06],\n",
              "       [9.99992847e-01, 7.13390182e-06],\n",
              "       [3.06488187e-06, 9.99996901e-01],\n",
              "       [9.99999881e-01, 9.93699061e-08],\n",
              "       [9.99999762e-01, 1.96414021e-07],\n",
              "       [9.99948978e-01, 5.09636484e-05],\n",
              "       [2.84264979e-06, 9.99997139e-01],\n",
              "       [9.99862909e-01, 1.37124851e-04],\n",
              "       [9.86223519e-01, 1.37765389e-02],\n",
              "       [5.97929727e-07, 9.99999404e-01],\n",
              "       [9.97964621e-01, 2.03538244e-03],\n",
              "       [9.99994993e-01, 5.04484387e-06],\n",
              "       [9.99998569e-01, 1.39958161e-06],\n",
              "       [9.99956012e-01, 4.40241893e-05],\n",
              "       [9.99894381e-01, 1.05657637e-04],\n",
              "       [9.99997854e-01, 2.18866217e-06],\n",
              "       [4.38345705e-06, 9.99995589e-01],\n",
              "       [9.99960542e-01, 3.95029674e-05],\n",
              "       [9.99995112e-01, 4.86684485e-06],\n",
              "       [5.23792551e-07, 9.99999523e-01],\n",
              "       [9.99998331e-01, 1.69389079e-06],\n",
              "       [9.99902844e-01, 9.71365225e-05],\n",
              "       [9.99995112e-01, 4.93833613e-06],\n",
              "       [1.01103717e-06, 9.99999046e-01],\n",
              "       [1.73056193e-04, 9.99826968e-01],\n",
              "       [9.99999046e-01, 9.04324509e-07],\n",
              "       [5.21083166e-07, 9.99999523e-01],\n",
              "       [9.99996543e-01, 3.50939877e-06],\n",
              "       [6.27903319e-07, 9.99999404e-01],\n",
              "       [9.99999642e-01, 3.93548106e-07],\n",
              "       [5.61148283e-07, 9.99999404e-01],\n",
              "       [9.99996901e-01, 3.05313370e-06],\n",
              "       [9.99999881e-01, 8.64467893e-08],\n",
              "       [9.99999881e-01, 1.37456112e-07],\n",
              "       [4.02855477e-07, 9.99999642e-01],\n",
              "       [1.16947035e-06, 9.99998808e-01],\n",
              "       [6.73139084e-07, 9.99999285e-01],\n",
              "       [1.69404757e-06, 9.99998331e-01],\n",
              "       [9.99999881e-01, 1.08683231e-07],\n",
              "       [9.99999046e-01, 9.26623159e-07],\n",
              "       [1.03852790e-06, 9.99998927e-01],\n",
              "       [9.99951243e-01, 4.87433936e-05],\n",
              "       [9.99998689e-01, 1.33158346e-06],\n",
              "       [4.28473555e-07, 9.99999523e-01],\n",
              "       [4.93623645e-07, 9.99999523e-01],\n",
              "       [1.06274240e-06, 9.99998927e-01],\n",
              "       [2.97850420e-07, 9.99999762e-01],\n",
              "       [4.49272966e-06, 9.99995470e-01],\n",
              "       [2.49920299e-06, 9.99997497e-01],\n",
              "       [9.99999881e-01, 7.33835037e-08],\n",
              "       [9.99996066e-01, 3.95194638e-06],\n",
              "       [9.99997497e-01, 2.50094354e-06],\n",
              "       [9.12721987e-07, 9.99999046e-01],\n",
              "       [9.97996211e-01, 2.00377079e-03],\n",
              "       [6.64064055e-06, 9.99993324e-01],\n",
              "       [9.99994159e-01, 5.81736094e-06],\n",
              "       [9.99994397e-01, 5.56180248e-06],\n",
              "       [9.99997258e-01, 2.69553334e-06],\n",
              "       [9.99993801e-01, 6.25253597e-06],\n",
              "       [9.99889374e-01, 1.10660760e-04],\n",
              "       [9.99998689e-01, 1.35983964e-06],\n",
              "       [9.99998689e-01, 1.34316804e-06],\n",
              "       [9.88324881e-01, 1.16750700e-02],\n",
              "       [1.32364748e-05, 9.99986768e-01],\n",
              "       [8.27398821e-07, 9.99999166e-01],\n",
              "       [3.96460791e-07, 9.99999642e-01],\n",
              "       [1.00000000e+00, 5.74587098e-08],\n",
              "       [9.99999642e-01, 3.28129147e-07],\n",
              "       [9.98843431e-01, 1.15658308e-03],\n",
              "       [9.99999404e-01, 5.68754672e-07],\n",
              "       [2.21818323e-06, 9.99997735e-01],\n",
              "       [3.66017844e-07, 9.99999642e-01],\n",
              "       [9.99929428e-01, 7.06010906e-05],\n",
              "       [9.99795973e-01, 2.04020005e-04],\n",
              "       [9.99984384e-01, 1.55926828e-05],\n",
              "       [9.99949455e-01, 5.05410826e-05],\n",
              "       [9.73745286e-01, 2.62547284e-02],\n",
              "       [9.99991894e-01, 8.11060454e-06],\n",
              "       [9.19355929e-01, 8.06441307e-02],\n",
              "       [9.99999762e-01, 2.44867238e-07],\n",
              "       [5.53934991e-01, 4.46064979e-01],\n",
              "       [7.04369995e-07, 9.99999285e-01],\n",
              "       [6.99901705e-07, 9.99999285e-01],\n",
              "       [9.99995947e-01, 4.01119860e-06],\n",
              "       [9.99998212e-01, 1.73703279e-06],\n",
              "       [2.37483803e-07, 9.99999762e-01],\n",
              "       [9.99999762e-01, 2.96372463e-07],\n",
              "       [1.00000000e+00, 8.36454284e-09],\n",
              "       [5.53009704e-05, 9.99944687e-01],\n",
              "       [3.17555282e-06, 9.99996781e-01],\n",
              "       [9.99641061e-01, 3.58942081e-04],\n",
              "       [1.00000000e+00, 4.32929319e-08],\n",
              "       [8.20837784e-07, 9.99999166e-01],\n",
              "       [1.00000000e+00, 1.99880699e-08],\n",
              "       [1.74637262e-06, 9.99998212e-01],\n",
              "       [9.92672085e-07, 9.99999046e-01],\n",
              "       [9.99997735e-01, 2.30054820e-06],\n",
              "       [2.33502101e-06, 9.99997616e-01],\n",
              "       [1.00833711e-06, 9.99999046e-01],\n",
              "       [8.00142629e-07, 9.99999166e-01],\n",
              "       [9.99840140e-01, 1.59829608e-04],\n",
              "       [9.48237777e-01, 5.17622717e-02],\n",
              "       [9.43467512e-07, 9.99999046e-01],\n",
              "       [3.07597190e-07, 9.99999642e-01],\n",
              "       [9.99999642e-01, 3.92242697e-07],\n",
              "       [4.30631616e-07, 9.99999523e-01],\n",
              "       [9.99618292e-01, 3.81648832e-04],\n",
              "       [1.00000000e+00, 4.92711223e-08],\n",
              "       [9.99999881e-01, 8.01889115e-08],\n",
              "       [9.99998331e-01, 1.70610201e-06],\n",
              "       [9.99999881e-01, 8.13320113e-08],\n",
              "       [4.66107167e-07, 9.99999523e-01],\n",
              "       [9.85557139e-01, 1.44428974e-02],\n",
              "       [9.99983191e-01, 1.68665883e-05],\n",
              "       [9.99999881e-01, 1.67843936e-07],\n",
              "       [9.99060333e-01, 9.39731719e-04],\n",
              "       [7.87873417e-02, 9.21212673e-01],\n",
              "       [2.98650120e-04, 9.99701321e-01],\n",
              "       [9.84123886e-01, 1.58761013e-02],\n",
              "       [9.99996543e-01, 3.49311745e-06],\n",
              "       [4.91447906e-07, 9.99999523e-01],\n",
              "       [1.31731827e-06, 9.99998689e-01],\n",
              "       [1.02066667e-06, 9.99998927e-01],\n",
              "       [8.78803348e-06, 9.99991179e-01],\n",
              "       [2.33671770e-07, 9.99999762e-01],\n",
              "       [1.86361056e-02, 9.81363833e-01],\n",
              "       [7.50518439e-07, 9.99999285e-01],\n",
              "       [9.99999881e-01, 1.15381539e-07],\n",
              "       [9.99998927e-01, 1.07464950e-06],\n",
              "       [7.00466262e-05, 9.99929905e-01],\n",
              "       [2.69674729e-07, 9.99999762e-01],\n",
              "       [9.99964833e-01, 3.51136187e-05],\n",
              "       [9.96214731e-05, 9.99900341e-01],\n",
              "       [4.90504874e-07, 9.99999523e-01],\n",
              "       [2.36607639e-06, 9.99997616e-01],\n",
              "       [9.99999881e-01, 6.60541275e-08],\n",
              "       [2.65355920e-03, 9.97346401e-01],\n",
              "       [9.50055895e-04, 9.99049962e-01],\n",
              "       [1.99558212e-06, 9.99997973e-01],\n",
              "       [7.41379023e-01, 2.58621007e-01],\n",
              "       [8.38337598e-07, 9.99999166e-01],\n",
              "       [5.05647790e-07, 9.99999523e-01],\n",
              "       [3.59400161e-07, 9.99999642e-01],\n",
              "       [4.76491641e-06, 9.99995232e-01],\n",
              "       [9.89399314e-01, 1.06007131e-02],\n",
              "       [9.99702036e-01, 2.97913561e-04],\n",
              "       [7.46312310e-07, 9.99999285e-01],\n",
              "       [9.99983549e-01, 1.64213379e-05],\n",
              "       [3.55988974e-03, 9.96440113e-01],\n",
              "       [3.42216603e-02, 9.65778351e-01],\n",
              "       [9.99997735e-01, 2.26710313e-06],\n",
              "       [9.99962807e-01, 3.71858914e-05],\n",
              "       [9.99998689e-01, 1.35141306e-06],\n",
              "       [1.00000000e+00, 2.39179325e-08],\n",
              "       [9.99998450e-01, 1.59954016e-06],\n",
              "       [2.00330362e-01, 7.99669623e-01],\n",
              "       [1.85576198e-03, 9.98144269e-01],\n",
              "       [4.85417672e-07, 9.99999523e-01],\n",
              "       [9.99925852e-01, 7.41331969e-05],\n",
              "       [2.06117820e-05, 9.99979377e-01],\n",
              "       [8.05680202e-07, 9.99999166e-01],\n",
              "       [1.00000000e+00, 4.42148966e-08],\n",
              "       [9.99816597e-01, 1.83485521e-04],\n",
              "       [4.55764223e-07, 9.99999523e-01],\n",
              "       [9.99999762e-01, 2.00233316e-07],\n",
              "       [9.99997735e-01, 2.26603311e-06],\n",
              "       [3.18221573e-04, 9.99681830e-01],\n",
              "       [2.95461655e-06, 9.99997020e-01],\n",
              "       [9.99996662e-01, 3.34193828e-06],\n",
              "       [6.27857153e-05, 9.99937177e-01],\n",
              "       [3.08750742e-07, 9.99999642e-01],\n",
              "       [2.12273858e-06, 9.99997854e-01],\n",
              "       [9.99998212e-01, 1.79630615e-06],\n",
              "       [9.99998808e-01, 1.19283402e-06],\n",
              "       [9.99999285e-01, 7.46800026e-07],\n",
              "       [9.99984503e-01, 1.54537920e-05],\n",
              "       [4.52721821e-07, 9.99999523e-01],\n",
              "       [9.99975324e-01, 2.46861291e-05],\n",
              "       [2.99465819e-06, 9.99997020e-01],\n",
              "       [2.25020558e-05, 9.99977469e-01],\n",
              "       [9.99998808e-01, 1.19798460e-06],\n",
              "       [1.78545853e-03, 9.98214602e-01],\n",
              "       [9.28569809e-02, 9.07142997e-01],\n",
              "       [9.97450292e-01, 2.54967762e-03],\n",
              "       [9.99980211e-01, 1.98005218e-05],\n",
              "       [9.25611496e-01, 7.43884817e-02],\n",
              "       [9.99999285e-01, 7.29623594e-07],\n",
              "       [9.97060478e-01, 2.93949991e-03],\n",
              "       [9.99995470e-01, 4.54974861e-06],\n",
              "       [9.99994993e-01, 5.03327692e-06],\n",
              "       [9.99999881e-01, 9.21911223e-08],\n",
              "       [8.33614649e-07, 9.99999166e-01],\n",
              "       [7.32092803e-06, 9.99992728e-01],\n",
              "       [8.06572735e-02, 9.19342756e-01],\n",
              "       [9.99995351e-01, 4.68603139e-06],\n",
              "       [9.98055816e-01, 1.94425636e-03],\n",
              "       [9.99614358e-01, 3.85554595e-04],\n",
              "       [9.94823933e-01, 5.17601799e-03],\n",
              "       [1.77058325e-06, 9.99998212e-01],\n",
              "       [2.05159040e-06, 9.99997973e-01],\n",
              "       [9.99897361e-01, 1.02675047e-04],\n",
              "       [9.99959111e-01, 4.08491687e-05],\n",
              "       [9.33568120e-01, 6.64319471e-02],\n",
              "       [9.99990463e-01, 9.48042634e-06],\n",
              "       [9.99916196e-01, 8.37530461e-05],\n",
              "       [9.99999762e-01, 1.97260249e-07],\n",
              "       [3.15951843e-06, 9.99996781e-01],\n",
              "       [9.99968290e-01, 3.17552440e-05]], dtype=float32)"
            ]
          },
          "metadata": {},
          "execution_count": 53
        }
      ],
      "source": [
        "# Prediction on Test Data\n",
        "predicted_bi_lstm = model.predict(test_data)\n",
        "predicted_bi_lstm"
      ]
    },
    {
      "cell_type": "code",
      "execution_count": null,
      "metadata": {
        "execution": {
          "iopub.execute_input": "2022-04-24T12:58:37.418212Z",
          "iopub.status.busy": "2022-04-24T12:58:37.417482Z",
          "iopub.status.idle": "2022-04-24T12:58:37.421997Z",
          "shell.execute_reply": "2022-04-24T12:58:37.421210Z",
          "shell.execute_reply.started": "2022-04-24T12:58:37.418175Z"
        },
        "id": "OdtzVqvVMADO"
      },
      "outputs": [],
      "source": [
        "pred_labels = np.argmax(predicted_bi_lstm.round(), axis=1)"
      ]
    },
    {
      "cell_type": "code",
      "execution_count": null,
      "metadata": {
        "execution": {
          "iopub.execute_input": "2022-04-24T12:58:39.705868Z",
          "iopub.status.busy": "2022-04-24T12:58:39.705238Z",
          "iopub.status.idle": "2022-04-24T12:58:39.709591Z",
          "shell.execute_reply": "2022-04-24T12:58:39.708740Z",
          "shell.execute_reply.started": "2022-04-24T12:58:39.705835Z"
        },
        "id": "v6JlLsD8MADQ"
      },
      "outputs": [],
      "source": [
        "actual_labels = np.argmax(test_labels, axis=1)"
      ]
    },
    {
      "cell_type": "code",
      "source": [
        "list(test_df[\"tweet\"])[0]"
      ],
      "metadata": {
        "colab": {
          "base_uri": "https://localhost:8080/",
          "height": 35
        },
        "id": "F-WTO4hUVi2q",
        "outputId": "47e64771-9560-486c-84f8-b4843255cec7"
      },
      "execution_count": null,
      "outputs": [
        {
          "output_type": "execute_result",
          "data": {
            "text/plain": [
              "'CDC Says Despite Rumors, Mimes Not Safe From Coronavirus Behind Invisible Glass https://t.co/cOHr0pUJap #jesus #coronavirus #cdc #mime'"
            ],
            "application/vnd.google.colaboratory.intrinsic+json": {
              "type": "string"
            }
          },
          "metadata": {},
          "execution_count": 64
        }
      ]
    },
    {
      "cell_type": "code",
      "execution_count": null,
      "metadata": {
        "execution": {
          "iopub.execute_input": "2022-04-24T12:58:40.983626Z",
          "iopub.status.busy": "2022-04-24T12:58:40.983059Z",
          "iopub.status.idle": "2022-04-24T12:58:40.989084Z",
          "shell.execute_reply": "2022-04-24T12:58:40.988175Z",
          "shell.execute_reply.started": "2022-04-24T12:58:40.983585Z"
        },
        "id": "A2j11JGDMADR"
      },
      "outputs": [],
      "source": [
        "classification_results = []\n",
        "for i in range(5):\n",
        "    predict_label = pred_labels[i]\n",
        "    actual_label = actual_labels[i]\n",
        "    # text = test_df['tweet'][i]\n",
        "    text = list(test_df[\"tweet\"])[i]\n",
        "    classification_results.append({'actual': actual_label, 'predict': predict_label, 'sentence': text})"
      ]
    },
    {
      "cell_type": "code",
      "execution_count": null,
      "metadata": {
        "execution": {
          "iopub.execute_input": "2022-04-24T12:58:41.808643Z",
          "iopub.status.busy": "2022-04-24T12:58:41.807894Z",
          "iopub.status.idle": "2022-04-24T12:58:41.813440Z",
          "shell.execute_reply": "2022-04-24T12:58:41.812413Z",
          "shell.execute_reply.started": "2022-04-24T12:58:41.808603Z"
        },
        "id": "ByJrsff6MADX"
      },
      "outputs": [],
      "source": [
        "with open('classification_results.pkl', 'wb') as fp:\n",
        "    pickle.dump(classification_results, fp)"
      ]
    },
    {
      "cell_type": "code",
      "source": [
        "classification_results"
      ],
      "metadata": {
        "colab": {
          "base_uri": "https://localhost:8080/"
        },
        "id": "YvZ8x87cWBTk",
        "outputId": "f5a72c78-465a-4d47-8c51-c8d4d123f876"
      },
      "execution_count": null,
      "outputs": [
        {
          "output_type": "execute_result",
          "data": {
            "text/plain": [
              "[{'actual': 0,\n",
              "  'predict': 0,\n",
              "  'sentence': 'CDC Says Despite Rumors, Mimes Not Safe From Coronavirus Behind Invisible Glass https://t.co/cOHr0pUJap #jesus #coronavirus #cdc #mime'},\n",
              " {'actual': 1,\n",
              "  'predict': 1,\n",
              "  'sentence': 'RT @MoHFW_INDIA: #IndiaFightsCorona India has scaled yet another peak! More than 12 lakh samples tested in the past 24 hours. Cumulative…'},\n",
              " {'actual': 1,\n",
              "  'predict': 1,\n",
              "  'sentence': 'API users beware: there is a major caveat in the testing data today as North Carolina removed 220k tests from its cumulative numbers. https://t.co/xR9uxFTX5f'},\n",
              " {'actual': 0,\n",
              "  'predict': 0,\n",
              "  'sentence': \"38 % of Americans won't buy Corona beer due to the coronavirus.\"},\n",
              " {'actual': 0,\n",
              "  'predict': 0,\n",
              "  'sentence': 'The coronavirus disease is caused by a bacterium that in turn causes thrombosis. Moreover these bacteria get stronger under the influence of the 5G waves.'}]"
            ]
          },
          "metadata": {},
          "execution_count": 67
        }
      ]
    },
    {
      "cell_type": "markdown",
      "metadata": {
        "id": "x9F0gK9kMADa"
      },
      "source": [
        "# 8. Model Evaluation"
      ]
    },
    {
      "cell_type": "code",
      "execution_count": null,
      "metadata": {
        "execution": {
          "iopub.execute_input": "2022-04-24T12:59:59.380538Z",
          "iopub.status.busy": "2022-04-24T12:59:59.380233Z",
          "iopub.status.idle": "2022-04-24T13:00:04.896148Z",
          "shell.execute_reply": "2022-04-24T13:00:04.895412Z",
          "shell.execute_reply.started": "2022-04-24T12:59:59.380495Z"
        },
        "id": "S9FVmAWWMADb"
      },
      "outputs": [],
      "source": [
        "model = load_model(\"/model\")"
      ]
    },
    {
      "cell_type": "code",
      "execution_count": null,
      "metadata": {
        "execution": {
          "iopub.execute_input": "2022-04-24T13:00:04.956177Z",
          "iopub.status.busy": "2022-04-24T13:00:04.955450Z",
          "iopub.status.idle": "2022-04-24T13:00:05.875779Z",
          "shell.execute_reply": "2022-04-24T13:00:05.874952Z",
          "shell.execute_reply.started": "2022-04-24T13:00:04.956141Z"
        },
        "id": "ScGE2kQYMADc"
      },
      "outputs": [],
      "source": [
        "# loading\n",
        "with open('tokenizer.pickle', 'rb') as handle:\n",
        "    tokenizer = pickle.load(handle)"
      ]
    },
    {
      "cell_type": "markdown",
      "metadata": {
        "id": "RJK75Y9WMADd"
      },
      "source": [
        "## #8.1Model Performance Attributes"
      ]
    },
    {
      "cell_type": "code",
      "execution_count": null,
      "metadata": {
        "execution": {
          "iopub.execute_input": "2022-04-24T13:00:08.018159Z",
          "iopub.status.busy": "2022-04-24T13:00:08.017902Z",
          "iopub.status.idle": "2022-04-24T13:00:08.055343Z",
          "shell.execute_reply": "2022-04-24T13:00:08.054258Z",
          "shell.execute_reply.started": "2022-04-24T13:00:08.018130Z"
        },
        "colab": {
          "base_uri": "https://localhost:8080/"
        },
        "id": "J8LIjwQTMADe",
        "outputId": "0f2c871d-f864-4706-d966-00db337ed3f0"
      },
      "outputs": [
        {
          "output_type": "stream",
          "name": "stdout",
          "text": [
            "precision: [0.9122807  0.93283582]\n",
            "recall: [0.94545455 0.89285714]\n",
            "fscore: [0.92857143 0.91240876]\n",
            "support: [165 140]\n",
            "################################\n",
            "              precision    recall  f1-score   support\n",
            "\n",
            "           0       0.91      0.95      0.93       165\n",
            "           1       0.93      0.89      0.91       140\n",
            "\n",
            "   micro avg       0.92      0.92      0.92       305\n",
            "   macro avg       0.92      0.92      0.92       305\n",
            "weighted avg       0.92      0.92      0.92       305\n",
            " samples avg       0.92      0.92      0.92       305\n",
            "\n"
          ]
        }
      ],
      "source": [
        "precision, recall, fscore, support = score(test_labels, predicted_bi_lstm.round())\n",
        "\n",
        "print('precision: {}'.format(precision))\n",
        "print('recall: {}'.format(recall))\n",
        "print('fscore: {}'.format(fscore))\n",
        "print('support: {}'.format(support))\n",
        "print('################################')\n",
        "print(sklearn.metrics.classification_report(test_labels, predicted_bi_lstm.round()))"
      ]
    },
    {
      "cell_type": "code",
      "source": [
        "acc = sklearn.metrics.accuracy_score(predicted_bi_lstm.round(), test_labels)\n",
        "f1 = sklearn.metrics.f1_score(predicted_bi_lstm.round(), test_labels, average='weighted')\n",
        "print(\"Accuracy Score: {}\".format(acc))\n",
        "print(\"f1 Score: {}\".format(f1))"
      ],
      "metadata": {
        "colab": {
          "base_uri": "https://localhost:8080/"
        },
        "id": "7IMKfKtMW4hI",
        "outputId": "352556aa-78a4-44ff-cf4d-c13dc6c79b18"
      },
      "execution_count": null,
      "outputs": [
        {
          "output_type": "stream",
          "name": "stdout",
          "text": [
            "Accuracy Score: 0.921311475409836\n",
            "f1 Score: 0.9214704524863673\n"
          ]
        }
      ]
    },
    {
      "cell_type": "markdown",
      "metadata": {
        "id": "yZf9Os9gMADu"
      },
      "source": [
        "## #8.2 Model Performance with Epochs\n"
      ]
    },
    {
      "cell_type": "code",
      "execution_count": null,
      "metadata": {
        "execution": {
          "iopub.execute_input": "2022-04-24T13:00:15.796938Z",
          "iopub.status.busy": "2022-04-24T13:00:15.796686Z",
          "iopub.status.idle": "2022-04-24T13:00:16.195971Z",
          "shell.execute_reply": "2022-04-24T13:00:16.195301Z",
          "shell.execute_reply.started": "2022-04-24T13:00:15.796910Z"
        },
        "colab": {
          "base_uri": "https://localhost:8080/",
          "height": 373
        },
        "id": "tqsrR5RdMADv",
        "outputId": "3994181a-b0a7-428f-bb97-886cb91adb2a"
      },
      "outputs": [
        {
          "output_type": "display_data",
          "data": {
            "text/plain": [
              "<Figure size 864x360 with 2 Axes>"
            ],
            "image/png": "[encoded data removed]"
          },
          "metadata": {
            "needs_background": "light"
          }
        }
      ],
      "source": [
        "def accuracy_plot(history):\n",
        "    \n",
        "    fig, ax = plt.subplots(1, 2, figsize=(12,5))\n",
        "    \n",
        "    fig.suptitle('Model Performance with Epochs', fontsize = 16)\n",
        "    # Subplot 1 \n",
        "    ax[0].plot(history.history['accuracy'])\n",
        "    ax[0].plot(history.history['val_accuracy'])\n",
        "    ax[0].set_title('Model Accuracy', fontsize = 14)\n",
        "    ax[0].set_xlabel('Epochs', fontsize = 12)\n",
        "    ax[0].set_ylabel('Accuracy', fontsize = 12)\n",
        "    ax[0].legend(['train', 'validation'], loc='best')\n",
        "    \n",
        "    # Subplot 2\n",
        "    ax[1].plot(history.history['loss'])\n",
        "    ax[1].plot(history.history['val_loss'])\n",
        "    ax[1].set_title('Model Loss', fontsize = 14)\n",
        "    ax[1].set_xlabel('Epochs', fontsize = 12)\n",
        "    ax[1].set_ylabel('Loss', fontsize = 12)\n",
        "    ax[1].legend(['train', 'validation'], loc='best')\n",
        "    \n",
        "    \n",
        "accuracy_plot(history)"
      ]
    },
    {
      "cell_type": "markdown",
      "metadata": {
        "id": "NfrR-qxZMADx"
      },
      "source": [
        "## #8.3 Confusion Matrix"
      ]
    },
    {
      "cell_type": "code",
      "execution_count": null,
      "metadata": {
        "execution": {
          "iopub.execute_input": "2022-04-24T13:00:17.154157Z",
          "iopub.status.busy": "2022-04-24T13:00:17.153587Z",
          "iopub.status.idle": "2022-04-24T13:00:19.288011Z",
          "shell.execute_reply": "2022-04-24T13:00:19.287344Z",
          "shell.execute_reply.started": "2022-04-24T13:00:17.154123Z"
        },
        "colab": {
          "base_uri": "https://localhost:8080/",
          "height": 551
        },
        "id": "eeXbiMFEMADz",
        "outputId": "719b5b78-ac38-43d0-e9c3-b02d723a6412"
      },
      "outputs": [
        {
          "output_type": "display_data",
          "data": {
            "text/plain": [
              "<Figure size 864x576 with 2 Axes>"
            ],
            "image/png": "[encoded data removed]"
          },
          "metadata": {
            "needs_background": "light"
          }
        }
      ],
      "source": [
        "# Declaring function for plotting confusion matrix\n",
        "import seaborn as sns\n",
        "from sklearn.metrics import confusion_matrix\n",
        "\n",
        "def plot_cm(model, test_data, test_labels):\n",
        "    \n",
        "    products = train_df['label'].unique()\n",
        "        \n",
        "    # Calculate predictions\n",
        "    pred = model.predict(test_data)\n",
        "    \n",
        "    # Declaring confusion matrix\n",
        "    cm = confusion_matrix(np.argmax(np.array(test_labels),axis=1), np.argmax(pred, axis=1))\n",
        "    \n",
        "    # Heat map labels\n",
        "\n",
        "    group_counts = ['{0:0.0f}'.format(value) for value in cm.flatten()]\n",
        "    group_percentages = ['{0:.2%}'.format(value) for value in cm.flatten()/np.sum(cm)]\n",
        "    \n",
        "    labels = [f\"{v2}\\n{v3}\" for v2, v3 in zip(group_counts, group_percentages)]\n",
        "    labels = np.asarray(labels).reshape(labels_count,labels_count)\n",
        "\n",
        "    # Plotting confusion matrix\n",
        "    plt.figure(figsize=(12,8))\n",
        "    \n",
        "    sns.heatmap(cm, cmap=plt.cm.Blues, annot=labels, annot_kws={\"size\": 15}, fmt = '',\n",
        "                xticklabels = products,\n",
        "                yticklabels = products)\n",
        "    \n",
        "    plt.xticks(fontsize = 12)\n",
        "    plt.yticks(fontsize = 12, rotation = 'horizontal')\n",
        "    plt.title('Confusion Matrix\\n', fontsize=19)\n",
        "    plt.xlabel('Predicted Labels', fontsize=17)\n",
        "    plt.ylabel('Actual Labels', fontsize=17)\n",
        "    \n",
        "plot_cm(model, test_data, test_labels)"
      ]
    },
    {
      "cell_type": "markdown",
      "metadata": {
        "id": "weHnYnKaMAD5"
      },
      "source": [
        "Model <b>accuracy</b> is verified with confusion matrix. "
      ]
    }
  ],
  "metadata": {
    "kernelspec": {
      "display_name": "Python 3",
      "language": "python",
      "name": "python3"
    },
    "language_info": {
      "codemirror_mode": {
        "name": "ipython",
        "version": 3
      },
      "file_extension": ".py",
      "mimetype": "text/x-python",
      "name": "python",
      "nbconvert_exporter": "python",
      "pygments_lexer": "ipython3",
      "version": "3.7.4"
    },
    "colab": {
      "name": "bi-lstm-multiclass-text-classification.ipynb",
      "provenance": [],
      "collapsed_sections": []
    },
    "accelerator": "GPU",
    "gpuClass": "standard"
  },
  "nbformat": 4,
  "nbformat_minor": 0
}